{
 "cells": [
  {
   "cell_type": "markdown",
   "metadata": {},
   "source": [
    "## Pytorch for Binary Classification"
   ]
  },
  {
   "cell_type": "code",
   "execution_count": 1,
   "metadata": {},
   "outputs": [],
   "source": [
    "import torch\n",
    "import numpy as np\n",
    "import matplotlib.pyplot as plt\n",
    "from sklearn.datasets import load_breast_cancer\n",
    "from sklearn.preprocessing import StandardScaler\n",
    "from torch import nn\n",
    "from torch.nn import functional as F\n",
    "from torch.utils.data import Dataset, DataLoader"
   ]
  },
  {
   "cell_type": "code",
   "execution_count": 2,
   "metadata": {},
   "outputs": [
    {
     "name": "stdout",
     "output_type": "stream",
     "text": [
      "(569, 30) (569,)\n",
      "[[1.799e+01 1.038e+01 1.228e+02 1.001e+03 1.184e-01 2.776e-01 3.001e-01\n",
      "  1.471e-01 2.419e-01 7.871e-02 1.095e+00 9.053e-01 8.589e+00 1.534e+02\n",
      "  6.399e-03 4.904e-02 5.373e-02 1.587e-02 3.003e-02 6.193e-03 2.538e+01\n",
      "  1.733e+01 1.846e+02 2.019e+03 1.622e-01 6.656e-01 7.119e-01 2.654e-01\n",
      "  4.601e-01 1.189e-01]\n",
      " [2.057e+01 1.777e+01 1.329e+02 1.326e+03 8.474e-02 7.864e-02 8.690e-02\n",
      "  7.017e-02 1.812e-01 5.667e-02 5.435e-01 7.339e-01 3.398e+00 7.408e+01\n",
      "  5.225e-03 1.308e-02 1.860e-02 1.340e-02 1.389e-02 3.532e-03 2.499e+01\n",
      "  2.341e+01 1.588e+02 1.956e+03 1.238e-01 1.866e-01 2.416e-01 1.860e-01\n",
      "  2.750e-01 8.902e-02]\n",
      " [1.969e+01 2.125e+01 1.300e+02 1.203e+03 1.096e-01 1.599e-01 1.974e-01\n",
      "  1.279e-01 2.069e-01 5.999e-02 7.456e-01 7.869e-01 4.585e+00 9.403e+01\n",
      "  6.150e-03 4.006e-02 3.832e-02 2.058e-02 2.250e-02 4.571e-03 2.357e+01\n",
      "  2.553e+01 1.525e+02 1.709e+03 1.444e-01 4.245e-01 4.504e-01 2.430e-01\n",
      "  3.613e-01 8.758e-02]\n",
      " [1.142e+01 2.038e+01 7.758e+01 3.861e+02 1.425e-01 2.839e-01 2.414e-01\n",
      "  1.052e-01 2.597e-01 9.744e-02 4.956e-01 1.156e+00 3.445e+00 2.723e+01\n",
      "  9.110e-03 7.458e-02 5.661e-02 1.867e-02 5.963e-02 9.208e-03 1.491e+01\n",
      "  2.650e+01 9.887e+01 5.677e+02 2.098e-01 8.663e-01 6.869e-01 2.575e-01\n",
      "  6.638e-01 1.730e-01]\n",
      " [2.029e+01 1.434e+01 1.351e+02 1.297e+03 1.003e-01 1.328e-01 1.980e-01\n",
      "  1.043e-01 1.809e-01 5.883e-02 7.572e-01 7.813e-01 5.438e+00 9.444e+01\n",
      "  1.149e-02 2.461e-02 5.688e-02 1.885e-02 1.756e-02 5.115e-03 2.254e+01\n",
      "  1.667e+01 1.522e+02 1.575e+03 1.374e-01 2.050e-01 4.000e-01 1.625e-01\n",
      "  2.364e-01 7.678e-02]]\n",
      "[0 0 0 0 0]\n"
     ]
    }
   ],
   "source": [
    "data = load_breast_cancer()\n",
    "x = data['data']\n",
    "y = data['target']\n",
    "\n",
    "print(x.shape, y.shape)\n",
    "print(x[:5])\n",
    "print(y[:5])"
   ]
  },
  {
   "cell_type": "code",
   "execution_count": 3,
   "metadata": {},
   "outputs": [],
   "source": [
    "## feature scaling\n",
    "sc = StandardScaler()\n",
    "x = sc.fit_transform(x)"
   ]
  },
  {
   "cell_type": "code",
   "execution_count": 4,
   "metadata": {},
   "outputs": [],
   "source": [
    "class dataset(Dataset):\n",
    "  def __init__(self,x,y):\n",
    "    self.x = torch.tensor(x,dtype=torch.float32)\n",
    "    self.y = torch.tensor(y,dtype=torch.float32)\n",
    "    self.length = self.x.shape[0]\n",
    " \n",
    "  def __getitem__(self,idx):\n",
    "    return self.x[idx],self.y[idx]\n",
    "  def __len__(self):\n",
    "    return self.length\n",
    "\n",
    "trainset = dataset(x,y)\n",
    "#DataLoader\n",
    "trainloader = DataLoader(trainset,batch_size=64,shuffle=False)"
   ]
  },
  {
   "cell_type": "code",
   "execution_count": 5,
   "metadata": {},
   "outputs": [],
   "source": [
    "class Net(nn.Module):\n",
    "  def __init__(self,input_shape):\n",
    "    super(Net,self).__init__()\n",
    "    self.fc1 = nn.Linear(input_shape,32)\n",
    "    self.fc2 = nn.Linear(32,64)\n",
    "    self.fc3 = nn.Linear(64,1)\n",
    "    \n",
    "  def forward(self,x):\n",
    "    x = torch.relu(self.fc1(x))\n",
    "    x = torch.relu(self.fc2(x))\n",
    "    x = torch.sigmoid(self.fc3(x))\n",
    "    \n",
    "    return x"
   ]
  },
  {
   "cell_type": "code",
   "execution_count": 6,
   "metadata": {},
   "outputs": [],
   "source": [
    "learning_rate = 0.002\n",
    "epochs = 200\n",
    "\n",
    "# Model , Optimizer, Loss\n",
    "model = Net(input_shape=x.shape[1])\n",
    "#optimizer = torch.optim.SGD(model.parameters(),lr=learning_rate)\n",
    "optimizer = torch.optim.Adam(model.parameters(),lr=learning_rate)\n",
    "loss_fn = nn.BCELoss()"
   ]
  },
  {
   "cell_type": "code",
   "execution_count": 7,
   "metadata": {},
   "outputs": [
    {
     "name": "stdout",
     "output_type": "stream",
     "text": [
      "epoch 0\tloss : 0.6334092617034912\t acc : 0.6660808435852372\n",
      "epoch 0\tloss : 0.6626327037811279\t acc : 0.6942003514938488\n",
      "epoch 0\tloss : 0.6474097967147827\t acc : 0.7486818980667839\n",
      "epoch 0\tloss : 0.6153193712234497\t acc : 0.7873462214411248\n",
      "epoch 0\tloss : 0.6058052182197571\t acc : 0.8137082601054482\n",
      "epoch 0\tloss : 0.5862833857536316\t acc : 0.8383128295254832\n",
      "epoch 0\tloss : 0.5909590721130371\t acc : 0.8717047451669596\n",
      "epoch 0\tloss : 0.5869215130805969\t acc : 0.8910369068541301\n",
      "epoch 0\tloss : 0.5561848878860474\t acc : 0.8963093145869947\n",
      "epoch 20\tloss : 0.03132474049925804\t acc : 0.9929701230228472\n",
      "epoch 20\tloss : 0.0378546342253685\t acc : 0.9929701230228472\n",
      "epoch 20\tloss : 0.0377434641122818\t acc : 0.9929701230228472\n",
      "epoch 20\tloss : 0.020306739956140518\t acc : 0.9929701230228472\n",
      "epoch 20\tloss : 0.07232595980167389\t acc : 0.9929701230228472\n",
      "epoch 20\tloss : 0.009125055745244026\t acc : 0.9929701230228472\n",
      "epoch 20\tloss : 0.013362790457904339\t acc : 0.9929701230228472\n",
      "epoch 20\tloss : 0.01589132472872734\t acc : 0.9929701230228472\n",
      "epoch 20\tloss : 0.026803918182849884\t acc : 0.9929701230228472\n",
      "epoch 40\tloss : 0.008540011011064053\t acc : 1.0\n",
      "epoch 40\tloss : 0.0077477614395320415\t acc : 1.0\n",
      "epoch 40\tloss : 0.012060160748660564\t acc : 1.0\n",
      "epoch 40\tloss : 0.005741573870182037\t acc : 1.0\n",
      "epoch 40\tloss : 0.010666965506970882\t acc : 1.0\n",
      "epoch 40\tloss : 0.0020879055373370647\t acc : 1.0\n",
      "epoch 40\tloss : 0.004433621186763048\t acc : 1.0\n",
      "epoch 40\tloss : 0.0060318452306091785\t acc : 1.0\n",
      "epoch 40\tloss : 0.005643152166157961\t acc : 1.0\n",
      "epoch 60\tloss : 0.0026447633281350136\t acc : 1.0\n",
      "epoch 60\tloss : 0.0021213458385318518\t acc : 1.0\n",
      "epoch 60\tloss : 0.004235671833157539\t acc : 1.0\n",
      "epoch 60\tloss : 0.001714213052764535\t acc : 1.0\n",
      "epoch 60\tloss : 0.0024207625538110733\t acc : 1.0\n",
      "epoch 60\tloss : 0.0007156828069128096\t acc : 1.0\n",
      "epoch 60\tloss : 0.0014848661376163363\t acc : 1.0\n",
      "epoch 60\tloss : 0.002041021827608347\t acc : 1.0\n",
      "epoch 60\tloss : 0.0015650779241696\t acc : 1.0\n",
      "epoch 80\tloss : 0.0012057025451213121\t acc : 1.0\n",
      "epoch 80\tloss : 0.0008662148611620069\t acc : 1.0\n",
      "epoch 80\tloss : 0.0017890450544655323\t acc : 1.0\n",
      "epoch 80\tloss : 0.0007473077275790274\t acc : 1.0\n",
      "epoch 80\tloss : 0.0009992059785872698\t acc : 1.0\n",
      "epoch 80\tloss : 0.0003376340609975159\t acc : 1.0\n",
      "epoch 80\tloss : 0.0006230155704542994\t acc : 1.0\n",
      "epoch 80\tloss : 0.0008715935400687158\t acc : 1.0\n",
      "epoch 80\tloss : 0.0006421343423426151\t acc : 1.0\n",
      "epoch 100\tloss : 0.0006516671273857355\t acc : 1.0\n",
      "epoch 100\tloss : 0.00044101086677983403\t acc : 1.0\n",
      "epoch 100\tloss : 0.0008807121776044369\t acc : 1.0\n",
      "epoch 100\tloss : 0.00040443585021421313\t acc : 1.0\n",
      "epoch 100\tloss : 0.0005223355256021023\t acc : 1.0\n",
      "epoch 100\tloss : 0.00019242358393967152\t acc : 1.0\n",
      "epoch 100\tloss : 0.0003096245345659554\t acc : 1.0\n",
      "epoch 100\tloss : 0.0004898833576589823\t acc : 1.0\n",
      "epoch 100\tloss : 0.0003473607066553086\t acc : 1.0\n",
      "epoch 120\tloss : 0.000402100762585178\t acc : 1.0\n",
      "epoch 120\tloss : 0.0002656100259628147\t acc : 1.0\n",
      "epoch 120\tloss : 0.0005144507740624249\t acc : 1.0\n",
      "epoch 120\tloss : 0.00024587486404925585\t acc : 1.0\n",
      "epoch 120\tloss : 0.00029603333678096533\t acc : 1.0\n",
      "epoch 120\tloss : 0.00012267715646885335\t acc : 1.0\n",
      "epoch 120\tloss : 0.00017996522365137935\t acc : 1.0\n",
      "epoch 120\tloss : 0.00029117593658156693\t acc : 1.0\n",
      "epoch 120\tloss : 0.00020632932137232274\t acc : 1.0\n",
      "epoch 140\tloss : 0.00026833254378288984\t acc : 1.0\n",
      "epoch 140\tloss : 0.0001754315453581512\t acc : 1.0\n",
      "epoch 140\tloss : 0.00034214393235743046\t acc : 1.0\n",
      "epoch 140\tloss : 0.00016605004202574492\t acc : 1.0\n",
      "epoch 140\tloss : 0.00019437773153185844\t acc : 1.0\n",
      "epoch 140\tloss : 8.405480184592307e-05\t acc : 1.0\n",
      "epoch 140\tloss : 0.00011636302951956168\t acc : 1.0\n",
      "epoch 140\tloss : 0.00019102459191344678\t acc : 1.0\n",
      "epoch 140\tloss : 0.00013709029008168727\t acc : 1.0\n",
      "epoch 160\tloss : 0.00018877466209232807\t acc : 1.0\n",
      "epoch 160\tloss : 0.00012300099479034543\t acc : 1.0\n",
      "epoch 160\tloss : 0.0002399041404714808\t acc : 1.0\n",
      "epoch 160\tloss : 0.00011980037379544228\t acc : 1.0\n",
      "epoch 160\tloss : 0.000134274858282879\t acc : 1.0\n",
      "epoch 160\tloss : 6.032311648596078e-05\t acc : 1.0\n",
      "epoch 160\tloss : 8.098048419924453e-05\t acc : 1.0\n",
      "epoch 160\tloss : 0.00013783418398816139\t acc : 1.0\n",
      "epoch 160\tloss : 9.797908569453284e-05\t acc : 1.0\n",
      "epoch 180\tloss : 0.00013888924149796367\t acc : 1.0\n",
      "epoch 180\tloss : 8.98456564755179e-05\t acc : 1.0\n",
      "epoch 180\tloss : 0.00017573958029970527\t acc : 1.0\n",
      "epoch 180\tloss : 8.90761220944114e-05\t acc : 1.0\n",
      "epoch 180\tloss : 9.791421325644478e-05\t acc : 1.0\n",
      "epoch 180\tloss : 4.525146141531877e-05\t acc : 1.0\n",
      "epoch 180\tloss : 5.8056830312125385e-05\t acc : 1.0\n",
      "epoch 180\tloss : 0.00010202603152720258\t acc : 1.0\n",
      "epoch 180\tloss : 7.263806037371978e-05\t acc : 1.0\n"
     ]
    }
   ],
   "source": [
    "loss_list = []\n",
    "acc_list = []\n",
    "for i in range(epochs):\n",
    "  for j,(x_train,y_train) in enumerate(trainloader):\n",
    "    \n",
    "    #calculate output\n",
    "    output = model(x_train)\n",
    " \n",
    "    #calculate loss\n",
    "    loss = loss_fn(output,y_train.reshape(-1,1))\n",
    " \n",
    "    #accuracy\n",
    "    predicted = model(torch.tensor(x,dtype=torch.float32))\n",
    "    acc = (predicted.reshape(-1).detach().numpy().round() == y).mean()\n",
    "    \n",
    "    #backprop\n",
    "    optimizer.zero_grad()\n",
    "    loss.backward()\n",
    "    optimizer.step()\n",
    "\n",
    "    \n",
    "    if i%20 == 0:\n",
    "        loss1 = loss.detach().cpu().numpy()\n",
    "        loss_list.append(loss1)\n",
    "        acc_list.append(acc)\n",
    "        print(\"epoch {}\\tloss : {}\\t acc : {}\".format(i,loss1,acc))"
   ]
  },
  {
   "cell_type": "code",
   "execution_count": 8,
   "metadata": {},
   "outputs": [
    {
     "data": {
      "text/plain": [
       "Text(0.5, 0, 'epochs')"
      ]
     },
     "execution_count": 8,
     "metadata": {},
     "output_type": "execute_result"
    },
    {
     "data": {
      "image/png": "[encoded data removed]",
      "text/plain": [
       "<Figure size 576x216 with 2 Axes>"
      ]
     },
     "metadata": {
      "needs_background": "light"
     },
     "output_type": "display_data"
    }
   ],
   "source": [
    "nx,ny = 2,1\n",
    "fig, ax = plt.subplots(ny,nx,figsize=(nx*4,ny*3))\n",
    "    \n",
    "ax[0].plot(loss_list)\n",
    "ax[1].plot(acc_list)\n",
    "ax[0].set_ylabel(\"loss\")\n",
    "ax[1].set_ylabel(\"acc\")\n",
    "ax[0].set_xlabel(\"epochs\")\n",
    "ax[1].set_xlabel(\"epochs\")"
   ]
  },
  {
   "cell_type": "code",
   "execution_count": null,
   "metadata": {},
   "outputs": [],
   "source": []
  }
 ],
 "metadata": {
  "kernelspec": {
   "display_name": "Python 3 (ipykernel)",
   "language": "python",
   "name": "python3"
  },
  "language_info": {
   "codemirror_mode": {
    "name": "ipython",
    "version": 3
   },
   "file_extension": ".py",
   "mimetype": "text/x-python",
   "name": "python",
   "nbconvert_exporter": "python",
   "pygments_lexer": "ipython3",
   "version": "3.7.4"
  }
 },
 "nbformat": 4,
 "nbformat_minor": 4
}
