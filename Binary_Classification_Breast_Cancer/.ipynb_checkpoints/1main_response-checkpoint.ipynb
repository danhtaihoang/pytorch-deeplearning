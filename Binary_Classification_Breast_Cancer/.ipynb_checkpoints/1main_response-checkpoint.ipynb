{
 "cells": [
  {
   "cell_type": "markdown",
   "metadata": {},
   "source": [
    "## Main program"
   ]
  },
  {
   "cell_type": "code",
   "execution_count": 1,
   "metadata": {},
   "outputs": [
    {
     "name": "stdout",
     "output_type": "stream",
     "text": [
      "device: cpu\n"
     ]
    }
   ],
   "source": [
    "import numpy as np\n",
    "import pandas as pd\n",
    "import matplotlib.pyplot as plt\n",
    "import os,sys,time\n",
    "from sklearn.model_selection import train_test_split\n",
    "from sklearn.preprocessing import StandardScaler\n",
    "from sklearn.metrics import confusion_matrix,accuracy_score,precision_score,\\\n",
    "recall_score,roc_curve,auc\n",
    "\n",
    "import torch\n",
    "from torch import nn\n",
    "from tqdm import tqdm\n",
    "from torch.utils.data import DataLoader,ConcatDataset,Subset,Dataset\n",
    "from utils import *\n",
    "\n",
    "## check available device\n",
    "device = (torch.device('cuda') if torch.cuda.is_available() else torch.device('cpu'))\n",
    "print(\"device:\", device)\n",
    "\n",
    "##-----\n",
    "init_random_seed(random_seed=42)"
   ]
  },
  {
   "cell_type": "code",
   "execution_count": 2,
   "metadata": {},
   "outputs": [],
   "source": [
    "from imblearn.under_sampling import NearMiss\n",
    "nearmiss = NearMiss()\n",
    "\n",
    "from imblearn.over_sampling import SMOTE\n",
    "smote = SMOTE()"
   ]
  },
  {
   "cell_type": "code",
   "execution_count": 3,
   "metadata": {},
   "outputs": [
    {
     "name": "stdout",
     "output_type": "stream",
     "text": [
      "dropout: 0.2\n",
      "batch_size: 32\n",
      "learning_rate: 0.0002\n"
     ]
    }
   ],
   "source": [
    "n_inputs = 512\n",
    "n_hiddens = 64\n",
    "n_outputs = 1\n",
    "\n",
    "dropout = 0.2\n",
    "batch_size = 32\n",
    "learning_rate = 0.0002           ## 0.001\n",
    "print(\"dropout:\", dropout)\n",
    "print(\"batch_size:\", batch_size)\n",
    "print(\"learning_rate:\", learning_rate)\n",
    "\n",
    "##--------------------------\n",
    "max_epochs,patience = 20,20"
   ]
  },
  {
   "cell_type": "code",
   "execution_count": 4,
   "metadata": {},
   "outputs": [
    {
     "name": "stdout",
     "output_type": "stream",
     "text": [
      "(25540, 512)\n",
      "(25540,)\n"
     ]
    }
   ],
   "source": [
    "features_tile = np.load(\"../data_class/BC_features_AE_response_tile.npy\")\n",
    "print(features_tile.shape)\n",
    "\n",
    "target_tile = np.loadtxt(\"response_tile.txt\")\n",
    "print(target_tile.shape)"
   ]
  },
  {
   "cell_type": "code",
   "execution_count": 5,
   "metadata": {},
   "outputs": [
    {
     "name": "stdout",
     "output_type": "stream",
     "text": [
      "[ 647  506  407  674  391  422 1006  404  706  677  403  347  417  417\n",
      "  194  133  336  233  416  320  447  321  383  152  304  455  108  388\n",
      "  264  442  379  515  347  228  570  144  464  293  555  439  299  321\n",
      "  530  660  679  216  520  630  506  328  446  292  250  642  382  502\n",
      "  298  163  254  284  188  442  375   79]\n",
      "(64,)\n"
     ]
    }
   ],
   "source": [
    "n_tiles = np.loadtxt(\"n_tiles.txt\", dtype=\"int\")\n",
    "print(n_tiles)\n",
    "print(n_tiles.shape)"
   ]
  },
  {
   "cell_type": "code",
   "execution_count": 6,
   "metadata": {},
   "outputs": [
    {
     "name": "stdout",
     "output_type": "stream",
     "text": [
      "[    0   647  1153  1560  2234  2625  3047  4053  4457  5163  5840  6243\n",
      "  6590  7007  7424  7618  7751  8087  8320  8736  9056  9503  9824 10207\n",
      " 10359 10663 11118 11226 11614 11878 12320 12699 13214 13561 13789 14359\n",
      " 14503 14967 15260 15815 16254 16553 16874 17404 18064 18743 18959 19479\n",
      " 20109 20615 20943 21389 21681 21931 22573 22955 23457 23755 23918 24172\n",
      " 24456 24644 25086 25461 25540]\n",
      "(65,)\n"
     ]
    }
   ],
   "source": [
    "cumsum = np.loadtxt(\"cumsum.txt\", dtype=int)\n",
    "print(cumsum)\n",
    "print(cumsum.shape)"
   ]
  },
  {
   "cell_type": "code",
   "execution_count": 7,
   "metadata": {},
   "outputs": [],
   "source": [
    "def tile2slide_labels(n_tiles, tile_labels, slide_idx):\n",
    "    n_tiles = n_tiles[slide_idx]\n",
    "    cumsum = np.cumsum(n_tiles, dtype=int)\n",
    "    cumsum = np.hstack(([0], cumsum))\n",
    "    slide_labels = np.array([tile_labels[cumsum[i]:cumsum[i+1]].mean() for i in range(len(slide_idx))])\n",
    "\n",
    "    return slide_labels"
   ]
  },
  {
   "cell_type": "code",
   "execution_count": 8,
   "metadata": {},
   "outputs": [],
   "source": [
    "def tile2slide_preds(n_tiles, tile_preds, slide_idx):\n",
    "    n_tiles = n_tiles[slide_idx]\n",
    "    cumsum = np.cumsum(n_tiles, dtype=int)\n",
    "    cumsum = np.hstack(([0], cumsum))\n",
    "    \n",
    "    slide_preds = np.array([tile_preds[cumsum[i]:cumsum[i+1]].mean().round() for i in range(len(slide_idx))])\n",
    "\n",
    "    return slide_preds"
   ]
  },
  {
   "cell_type": "code",
   "execution_count": 9,
   "metadata": {},
   "outputs": [],
   "source": [
    "def tile2slide_labels_preds(n_tiles,tile_labels,tile_preds, slide_idx):\n",
    "    n_tiles = n_tiles[slide_idx]\n",
    "    cumsum = np.cumsum(n_tiles, dtype=int)\n",
    "    cumsum = np.hstack(([0], cumsum))\n",
    "    \n",
    "    slide_labels = np.array([tile_labels[cumsum[i]:cumsum[i+1]].mean() for i in range(len(slide_idx))])\n",
    "    slide_preds = np.array([tile_preds[cumsum[i]:cumsum[i+1]].mean().round() for i in range(len(slide_idx))])\n",
    "\n",
    "    return slide_labels, slide_preds"
   ]
  },
  {
   "cell_type": "code",
   "execution_count": 10,
   "metadata": {},
   "outputs": [
    {
     "name": "stdout",
     "output_type": "stream",
     "text": [
      "64\n"
     ]
    }
   ],
   "source": [
    "n_slides = cumsum.shape[0] - 1\n",
    "print(n_slides)"
   ]
  },
  {
   "cell_type": "code",
   "execution_count": 11,
   "metadata": {},
   "outputs": [
    {
     "name": "stdout",
     "output_type": "stream",
     "text": [
      "[41 55 31 30 59 60 15 27 26 24 46 11 32 57 45 37 29 43 48  1 21  2 62 39\n",
      " 35 23 53 10 22 18 63 20  7 42 14 28 51 38]\n",
      "(38,)\n",
      "[52 58  0 44  5 36 16 12 25 61 56  9 40 13 34 50  3 17 49  8  6 33  4 47\n",
      " 19 54]\n",
      "(26,)\n"
     ]
    }
   ],
   "source": [
    "train_idx, valid_idx = train_test_split(np.arange(n_slides), test_size=0.4, shuffle=True)\n",
    "print(train_idx)\n",
    "print(train_idx.shape)\n",
    "\n",
    "print(valid_idx)\n",
    "print(valid_idx.shape)"
   ]
  },
  {
   "cell_type": "code",
   "execution_count": 12,
   "metadata": {},
   "outputs": [],
   "source": [
    "## convert slide_idx to tile level\n",
    "def features_target_set(features_tile, target_tile, cumsum, slide_idx):\n",
    "    features = []\n",
    "    target = []\n",
    "    for ii,i in enumerate(slide_idx):\n",
    "        if ii == 0:\n",
    "            features = features_tile[cumsum[i]:cumsum[i+1]]\n",
    "            target = target_tile[cumsum[i]:cumsum[i+1]]\n",
    "        else:\n",
    "            features = np.vstack((features,features_tile[cumsum[i]:cumsum[i+1]]))\n",
    "            target = np.hstack((target,target_tile[cumsum[i]:cumsum[i+1]]))\n",
    "            \n",
    "    return features,target"
   ]
  },
  {
   "cell_type": "code",
   "execution_count": 13,
   "metadata": {},
   "outputs": [
    {
     "name": "stdout",
     "output_type": "stream",
     "text": [
      "train: (13569, 512) (13569,)\n",
      "valid: (11971, 512) (11971,)\n"
     ]
    }
   ],
   "source": [
    "train_features, train_target = features_target_set(features_tile, target_tile, cumsum, train_idx)\n",
    "valid_features, valid_target = features_target_set(features_tile, target_tile, cumsum, valid_idx)\n",
    "\n",
    "print(\"train:\", train_features.shape, train_target.shape)\n",
    "print(\"valid:\", valid_features.shape, valid_target.shape)"
   ]
  },
  {
   "cell_type": "code",
   "execution_count": 14,
   "metadata": {},
   "outputs": [],
   "source": [
    "#train_features, train_target = nearmiss.fit_resample(train_features, train_target)\n",
    "#train_features, train_target = smote.fit_resample(train_features, train_target)\n",
    "\n",
    "sc = StandardScaler()\n",
    "train_features = sc.fit_transform(train_features)\n",
    "valid_features = sc.transform(valid_features)"
   ]
  },
  {
   "cell_type": "code",
   "execution_count": 15,
   "metadata": {},
   "outputs": [],
   "source": [
    "class dataset(Dataset):\n",
    "  def __init__(self,x,y):\n",
    "    self.x = torch.tensor(x,dtype=torch.float32)\n",
    "    self.y = torch.tensor(y,dtype=torch.float32)\n",
    "    self.length = self.x.shape[0]\n",
    " \n",
    "  def __getitem__(self,idx):\n",
    "    return self.x[idx],self.y[idx]\n",
    "\n",
    "  def __len__(self):\n",
    "    return self.length"
   ]
  },
  {
   "cell_type": "code",
   "execution_count": 16,
   "metadata": {},
   "outputs": [],
   "source": [
    "train_set = dataset(train_features, train_target)\n",
    "valid_set = dataset(valid_features, valid_target)\n",
    "\n",
    "train_loader = DataLoader(train_set, batch_size=batch_size, shuffle=True, num_workers=0)\n",
    "valid_loader = DataLoader(valid_set, batch_size=batch_size, shuffle=False, num_workers=0)"
   ]
  },
  {
   "cell_type": "code",
   "execution_count": 17,
   "metadata": {},
   "outputs": [],
   "source": [
    "class MLP_classification(nn.Module):\n",
    "    def __init__(self,n_inputs,n_hiddens,n_outputs):\n",
    "        super(MLP_classification,self).__init__()\n",
    "\n",
    "        #self.fc1 = nn.Linear(n_inputs,n_hiddens)\n",
    "        #self.fc2 = nn.Linear(n_hiddens,n_outputs)\n",
    "\n",
    "        self.layer0 = nn.Sequential(nn.Linear(n_inputs, n_hiddens, bias=True),\n",
    "            #nn.ReLU(),\n",
    "            nn.Dropout(dropout)\n",
    "            )\n",
    "\n",
    "        self.layer1 = nn.Sequential(nn.Linear(n_hiddens, n_outputs, bias=True),\n",
    "            #nn.ReLU()\n",
    "            )\n",
    "    \n",
    "\n",
    "    ## initialization\n",
    "    #for m in self.modules():\n",
    "    #    if isinstance(m, nn.Linear):\n",
    "    #        torch.nn.init.xavier_uniform_(m.weight)\n",
    "    #        m.bias.data.fill_(0.0)\n",
    "    \n",
    "    def forward(self,x):\n",
    "        x = self.layer0(x)\n",
    "        x = self.layer1(x)\n",
    "        x = torch.sigmoid(x)\n",
    "\n",
    "        return x"
   ]
  },
  {
   "cell_type": "code",
   "execution_count": 18,
   "metadata": {},
   "outputs": [
    {
     "name": "stdout",
     "output_type": "stream",
     "text": [
      "MLP_classification(\n",
      "  (layer0): Sequential(\n",
      "    (0): Linear(in_features=512, out_features=64, bias=True)\n",
      "    (1): Dropout(p=0.2, inplace=False)\n",
      "  )\n",
      "  (layer1): Sequential(\n",
      "    (0): Linear(in_features=64, out_features=1, bias=True)\n",
      "  )\n",
      ")\n"
     ]
    }
   ],
   "source": [
    "model = MLP_classification(n_inputs, n_hiddens, n_outputs)\n",
    "model.to(device)\n",
    "print(model)\n",
    "\n",
    "optimizer = torch.optim.Adam(model.parameters(), lr=learning_rate)\n",
    "loss_fn = nn.BCELoss()"
   ]
  },
  {
   "cell_type": "code",
   "execution_count": 19,
   "metadata": {},
   "outputs": [],
   "source": [
    "def training_epoch(model, optimizer, train_loader,loss_fn):\n",
    "    model.train()\n",
    "\n",
    "    labels = []\n",
    "    preds = []\n",
    "    loss_list = []\n",
    "    acc_list = []\n",
    "    for x,y in train_loader:       ## repeat times = len(train_set)/batch_size\n",
    "        #print(\"x.shape:\", x.shape)\n",
    "        #print(\"y.shape:\", y.shape)\n",
    "\n",
    "        labels += [y.reshape(-1).detach().cpu().numpy()]\n",
    "\n",
    "        pred = model(x.float().to(device))       \n",
    "        #print(\"pred.shape:\", pred.shape)\n",
    "        \n",
    "        preds += [pred.reshape(-1).detach().cpu().numpy()]\n",
    "\n",
    "        loss = loss_fn(pred, y.float().to(device).reshape(-1,1))\n",
    "        loss_list += [loss.detach().cpu().numpy()] ## add loss of each sample to a list\n",
    "\n",
    "        ## reset gradients to zero\n",
    "        optimizer.zero_grad()\n",
    "\n",
    "        ## compute gradients\n",
    "        loss.backward()\n",
    "\n",
    "        ## update parameters using gradients\n",
    "        optimizer.step()\n",
    "    \n",
    "    #labels = np.concatenate(labels)\n",
    "    #preds = np.concatenate(preds)\n",
    "    \n",
    "    #coef,slope = compute_coef_slope(labels, preds)\n",
    "    #return np.mean(loss_list) #,np.mean(coef),np.mean(slope)\n",
    "    \n",
    "    return np.mean(loss_list) #,np.mean(coef),np.mean(slope)"
   ]
  },
  {
   "cell_type": "code",
   "execution_count": 20,
   "metadata": {},
   "outputs": [],
   "source": [
    "def predict(model, dataloader, loss_fn):\n",
    "    model.eval()\n",
    "    \n",
    "    labels = []\n",
    "    preds = []\n",
    "    loss_list = []\n",
    "\n",
    "    with torch.no_grad():\n",
    "        for x, y in dataloader:         ## load x, y from dataloader for each batch\n",
    "            \n",
    "            labels += [y.reshape(-1).detach().cpu().numpy()]  ## y_actual\n",
    "            pred = model(x.float().to(device))                ## y_pred = model(x)\n",
    "\n",
    "            loss = loss_fn(pred, y.float().to(device).reshape(-1,1))\n",
    "            loss_list += [loss.detach().cpu().numpy()] ## convert to numpy\n",
    "\n",
    "            #pred = nn.ReLU()(pred)                    ## y_pred\n",
    "            preds += [pred.reshape(-1).detach().cpu().numpy()]     ## convert to numpy\n",
    "    \n",
    "    ## convert list to 2D array\n",
    "    labels = np.concatenate(labels)\n",
    "    preds = np.concatenate(preds)\n",
    "        \n",
    "    #coef,slope = compute_coef_slope(labels, preds)\n",
    "    \n",
    "    return np.mean(loss_list),labels,preds"
   ]
  },
  {
   "cell_type": "code",
   "execution_count": 21,
   "metadata": {},
   "outputs": [],
   "source": [
    "train_loss_list = []\n",
    "valid_loss_list = []\n",
    "\n",
    "train_acc_list = []\n",
    "\n",
    "valid_acc_list = []\n",
    "valid_precision_list = []\n",
    "valid_recall_list = []\n",
    "\n",
    "valid_acc_slide_list = []\n",
    "valid_precision_slide_list = []\n",
    "valid_recall_slide_list = []\n",
    "\n",
    "epoch_since_best = 0\n",
    "valid_coef_old = -1.\n",
    "for e in range(max_epochs):\n",
    "    epoch_since_best += 1\n",
    "\n",
    "    ## train\n",
    "    train_loss = training_epoch(model, optimizer, train_loader, loss_fn)\n",
    "\n",
    "    ## predict\n",
    "    train_loss, train_labels, train_preds_prob = predict(model, train_loader, loss_fn)\n",
    "    valid_loss, valid_labels, valid_preds_prob = predict(model, valid_loader, loss_fn)\n",
    "    \n",
    "    train_preds = train_preds_prob.round()\n",
    "    valid_preds = valid_preds_prob.round()\n",
    "    \n",
    "    train_acc = accuracy_score(train_labels, train_preds)\n",
    "    valid_acc = accuracy_score(valid_labels, valid_preds)\n",
    "    valid_precision = precision_score(valid_labels, valid_preds)\n",
    "    valid_recall = recall_score(valid_labels, valid_preds)\n",
    "\n",
    "    ## convert tile-level to slide-level:\n",
    "    valid_labels_slide, valid_preds_slide = tile2slide_labels_preds(n_tiles,valid_labels,valid_preds,valid_idx)\n",
    "    \n",
    "    valid_acc_slide = accuracy_score(valid_labels_slide, valid_preds_slide)\n",
    "    valid_precision_slide = precision_score(valid_labels_slide, valid_preds_slide)\n",
    "    valid_recall_slide = recall_score(valid_labels_slide, valid_preds_slide)\n",
    "    \n",
    "    ##--------------------------\n",
    "    train_loss_list.append(train_loss)\n",
    "    valid_loss_list.append(valid_loss)\n",
    "    \n",
    "    train_acc_list.append(train_acc)\n",
    "    valid_acc_list.append(valid_acc)\n",
    "    valid_precision_list.append(valid_precision)\n",
    "    valid_recall_list.append(valid_recall)\n",
    "    \n",
    "    valid_acc_slide_list.append(valid_acc_slide)\n",
    "    valid_precision_slide_list.append(valid_precision_slide)\n",
    "    valid_recall_slide_list.append(valid_recall_slide)"
   ]
  },
  {
   "cell_type": "code",
   "execution_count": 22,
   "metadata": {},
   "outputs": [
    {
     "data": {
      "image/png": "[encoded data removed]",
      "text/plain": [
       "<Figure size 1152x216 with 4 Axes>"
      ]
     },
     "metadata": {
      "needs_background": "light"
     },
     "output_type": "display_data"
    }
   ],
   "source": [
    "nx,ny = 4,1\n",
    "fig, ax = plt.subplots(ny,nx,figsize=(nx*4,ny*3))\n",
    "ax[0].plot(train_loss_list, 'k--', label=\"train-tile\")\n",
    "ax[0].plot(valid_loss_list, 'b-', label=\"valid-tile\")\n",
    "\n",
    "ax[1].plot(train_acc_list, 'k--', label=\"train-tile\")\n",
    "ax[1].plot(valid_acc_list, 'b-', label=\"valid-tile\")\n",
    "ax[1].plot(valid_acc_slide_list, 'r-', label=\"valid-slide\")\n",
    "\n",
    "ax[2].plot(valid_precision_list, 'b-', label=\"precision-tile\")\n",
    "ax[2].plot(valid_precision_slide_list, 'r-', label=\"precision-slide\")\n",
    "\n",
    "ax[3].plot(valid_recall_list, 'b-', label=\"recall-tile\")\n",
    "ax[3].plot(valid_recall_slide_list, 'r-', label=\"recall-slide\")\n",
    "\n",
    "for i in range(nx):\n",
    "    ax[i].set_xlabel(\"n_epochs\")\n",
    "    ax[i].legend()\n",
    "\n",
    "ax[0].set_ylabel(\"loss\")\n",
    "ax[1].set_ylabel(\"acc\")\n",
    "ax[2].set_ylabel(\"precision\")\n",
    "ax[3].set_ylabel(\"recall\")\n",
    "\n",
    "plt.tight_layout(h_pad=1, w_pad= 0.5)\n",
    "#plt.savefig(\"loss.pdf\", format='pdf', dpi=50)"
   ]
  },
  {
   "cell_type": "code",
   "execution_count": 23,
   "metadata": {},
   "outputs": [],
   "source": [
    "train_labels_slide = tile2slide_labels(n_tiles, train_target, train_idx)"
   ]
  },
  {
   "cell_type": "code",
   "execution_count": 24,
   "metadata": {},
   "outputs": [
    {
     "data": {
      "image/png": "[encoded data removed]",
      "text/plain": [
       "<Figure size 864x432 with 6 Axes>"
      ]
     },
     "metadata": {
      "needs_background": "light"
     },
     "output_type": "display_data"
    }
   ],
   "source": [
    "nx,ny = 3,2\n",
    "fig, ax = plt.subplots(ny,nx,figsize=(nx*4,ny*3))\n",
    "\n",
    "##--- train ---\n",
    "ax[0,0].bar(0,np.unique(train_labels, return_counts=True)[1][0],\n",
    "       color=\"pink\",edgecolor='black',width=0.5,alpha=1.,zorder=0, label=\"train_labels\")\n",
    "ax[0,0].bar(2,np.unique(train_labels, return_counts=True)[1][1],\n",
    "       color=\"pink\",edgecolor='black',width=0.5,alpha=1.,zorder=0)\n",
    "\n",
    "ax[0,0].bar(0.5,np.unique(train_preds, return_counts=True)[1][0],\n",
    "       color=\"blue\",edgecolor='black',width=0.5,alpha=1.,zorder=0, label=\"train_preds\")\n",
    "ax[0,0].bar(2.5,np.unique(train_preds, return_counts=True)[1][1],\n",
    "       color=\"blue\",edgecolor='black',width=0.5,alpha=1.,zorder=0)\n",
    "\n",
    "## --- valid ---\n",
    "ax[0,1].bar(0,np.unique(valid_labels, return_counts=True)[1][0],\n",
    "       color=\"pink\",edgecolor='black',width=0.5,alpha=1.,zorder=0, label=\"valid_labels\")\n",
    "ax[0,1].bar(2,np.unique(valid_labels, return_counts=True)[1][1],\n",
    "       color=\"pink\",edgecolor='black',width=0.5,alpha=1.,zorder=0)\n",
    "\n",
    "ax[0,1].bar(0.5,np.unique(valid_preds, return_counts=True)[1][0],\n",
    "       color=\"blue\",edgecolor='black',width=0.5,alpha=1.,zorder=0, label=\"valid_preds\")\n",
    "ax[0,1].bar(2.5,np.unique(valid_preds, return_counts=True)[1][1],\n",
    "       color=\"blue\",edgecolor='black',width=0.5,alpha=1.,zorder=0)\n",
    "\n",
    "## --- valid ---\n",
    "ax[0,2].bar(0,np.unique(valid_labels_slide, return_counts=True)[1][0],\n",
    "       color=\"pink\",edgecolor='black',width=0.5,alpha=1.,zorder=0, label=\"valid_labels_slide\")\n",
    "ax[0,2].bar(2,np.unique(valid_labels_slide, return_counts=True)[1][1],\n",
    "       color=\"pink\",edgecolor='black',width=0.5,alpha=1.,zorder=0)\n",
    "\n",
    "ax[0,2].bar(0.5,np.unique(valid_preds_slide, return_counts=True)[1][0],\n",
    "       color=\"blue\",edgecolor='black',width=0.5,alpha=1.,zorder=0, label=\"valid_preds_slide\")\n",
    "ax[0,2].bar(2.5,np.unique(valid_preds_slide, return_counts=True)[1][1],\n",
    "       color=\"blue\",edgecolor='black',width=0.5,alpha=1.,zorder=0)\n",
    "\n",
    "##-------\n",
    "for j in range(nx):\n",
    "    ax[0,j].set_xticks([0.25,2.25])\n",
    "    ax[0,j].set_xticklabels([\"Non-responders\", \"Responders\"])\n",
    "    ax[0,j].legend()\n",
    "    \n",
    "ax[0,0].set_ylabel(\"Number of tiles\")\n",
    "ax[0,1].set_ylabel(\"Number of tiles\")\n",
    "ax[0,2].set_ylabel(\"Number of slides\")\n",
    "\n",
    "##-----------------------------------------------\n",
    "bins = np.linspace(0,1.0,11, endpoint=True)\n",
    "\n",
    "ax[1,0].hist(train_preds_prob,bins,histtype='bar',rwidth=0.9,color=\"pink\",edgecolor='black')\n",
    "ax[1,1].hist(valid_preds_prob,bins,histtype='bar',rwidth=0.9,color=\"blue\",edgecolor='black')\n",
    "ax[1,0].set_ylabel(\"Number of tiles\")\n",
    "ax[1,1].set_ylabel(\"Number of tiles\")\n",
    "ax[1,0].set_xlabel(\"train_preds_prob\")\n",
    "ax[1,1].set_xlabel(\"valid_preds_prob\")\n",
    "\n",
    "plt.tight_layout(h_pad=1, w_pad=2.)\n",
    "#plt.savefig('hist.pdf', format='pdf', dpi=100)"
   ]
  },
  {
   "cell_type": "code",
   "execution_count": null,
   "metadata": {},
   "outputs": [],
   "source": []
  }
 ],
 "metadata": {
  "kernelspec": {
   "display_name": "Python 3 (ipykernel)",
   "language": "python",
   "name": "python3"
  },
  "language_info": {
   "codemirror_mode": {
    "name": "ipython",
    "version": 3
   },
   "file_extension": ".py",
   "mimetype": "text/x-python",
   "name": "python",
   "nbconvert_exporter": "python",
   "pygments_lexer": "ipython3",
   "version": "3.9.7"
  }
 },
 "nbformat": 4,
 "nbformat_minor": 4
}
