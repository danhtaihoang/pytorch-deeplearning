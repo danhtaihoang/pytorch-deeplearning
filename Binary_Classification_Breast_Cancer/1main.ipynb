{
 "cells": [
  {
   "cell_type": "markdown",
   "metadata": {},
   "source": [
    "## Pytorch for Binary Classification"
   ]
  },
  {
   "cell_type": "code",
   "execution_count": 1,
   "metadata": {},
   "outputs": [],
   "source": [
    "import torch\n",
    "import numpy as np\n",
    "import matplotlib.pyplot as plt\n",
    "from sklearn.datasets import load_breast_cancer\n",
    "from sklearn.preprocessing import StandardScaler\n",
    "from torch import nn\n",
    "from torch.nn import functional as F\n",
    "from torch.utils.data import Dataset, DataLoader"
   ]
  },
  {
   "cell_type": "code",
   "execution_count": 2,
   "metadata": {},
   "outputs": [
    {
     "name": "stdout",
     "output_type": "stream",
     "text": [
      "(569, 30) (569,)\n",
      "[[1.799e+01 1.038e+01 1.228e+02 1.001e+03 1.184e-01 2.776e-01 3.001e-01\n",
      "  1.471e-01 2.419e-01 7.871e-02 1.095e+00 9.053e-01 8.589e+00 1.534e+02\n",
      "  6.399e-03 4.904e-02 5.373e-02 1.587e-02 3.003e-02 6.193e-03 2.538e+01\n",
      "  1.733e+01 1.846e+02 2.019e+03 1.622e-01 6.656e-01 7.119e-01 2.654e-01\n",
      "  4.601e-01 1.189e-01]\n",
      " [2.057e+01 1.777e+01 1.329e+02 1.326e+03 8.474e-02 7.864e-02 8.690e-02\n",
      "  7.017e-02 1.812e-01 5.667e-02 5.435e-01 7.339e-01 3.398e+00 7.408e+01\n",
      "  5.225e-03 1.308e-02 1.860e-02 1.340e-02 1.389e-02 3.532e-03 2.499e+01\n",
      "  2.341e+01 1.588e+02 1.956e+03 1.238e-01 1.866e-01 2.416e-01 1.860e-01\n",
      "  2.750e-01 8.902e-02]\n",
      " [1.969e+01 2.125e+01 1.300e+02 1.203e+03 1.096e-01 1.599e-01 1.974e-01\n",
      "  1.279e-01 2.069e-01 5.999e-02 7.456e-01 7.869e-01 4.585e+00 9.403e+01\n",
      "  6.150e-03 4.006e-02 3.832e-02 2.058e-02 2.250e-02 4.571e-03 2.357e+01\n",
      "  2.553e+01 1.525e+02 1.709e+03 1.444e-01 4.245e-01 4.504e-01 2.430e-01\n",
      "  3.613e-01 8.758e-02]\n",
      " [1.142e+01 2.038e+01 7.758e+01 3.861e+02 1.425e-01 2.839e-01 2.414e-01\n",
      "  1.052e-01 2.597e-01 9.744e-02 4.956e-01 1.156e+00 3.445e+00 2.723e+01\n",
      "  9.110e-03 7.458e-02 5.661e-02 1.867e-02 5.963e-02 9.208e-03 1.491e+01\n",
      "  2.650e+01 9.887e+01 5.677e+02 2.098e-01 8.663e-01 6.869e-01 2.575e-01\n",
      "  6.638e-01 1.730e-01]\n",
      " [2.029e+01 1.434e+01 1.351e+02 1.297e+03 1.003e-01 1.328e-01 1.980e-01\n",
      "  1.043e-01 1.809e-01 5.883e-02 7.572e-01 7.813e-01 5.438e+00 9.444e+01\n",
      "  1.149e-02 2.461e-02 5.688e-02 1.885e-02 1.756e-02 5.115e-03 2.254e+01\n",
      "  1.667e+01 1.522e+02 1.575e+03 1.374e-01 2.050e-01 4.000e-01 1.625e-01\n",
      "  2.364e-01 7.678e-02]]\n",
      "[0 0 0 0 0]\n"
     ]
    }
   ],
   "source": [
    "data = load_breast_cancer()\n",
    "x = data['data']\n",
    "y = data['target']\n",
    "\n",
    "print(x.shape, y.shape)\n",
    "print(x[:5])\n",
    "print(y[:5])"
   ]
  },
  {
   "cell_type": "code",
   "execution_count": 3,
   "metadata": {},
   "outputs": [],
   "source": [
    "## feature scaling\n",
    "sc = StandardScaler()\n",
    "x = sc.fit_transform(x)"
   ]
  },
  {
   "cell_type": "code",
   "execution_count": 4,
   "metadata": {},
   "outputs": [],
   "source": [
    "class dataset(Dataset):\n",
    "  def __init__(self,x,y):\n",
    "    self.x = torch.tensor(x,dtype=torch.float32)\n",
    "    self.y = torch.tensor(y,dtype=torch.float32)\n",
    "    self.length = self.x.shape[0]\n",
    " \n",
    "  def __getitem__(self,idx):\n",
    "    return self.x[idx],self.y[idx]\n",
    "  def __len__(self):\n",
    "    return self.length\n",
    "\n",
    "trainset = dataset(x,y)\n",
    "#DataLoader\n",
    "trainloader = DataLoader(trainset,batch_size=64,shuffle=False)"
   ]
  },
  {
   "cell_type": "code",
   "execution_count": 5,
   "metadata": {},
   "outputs": [],
   "source": [
    "class Net(nn.Module):\n",
    "  def __init__(self,input_shape):\n",
    "    super(Net,self).__init__()\n",
    "    self.fc1 = nn.Linear(input_shape,32)\n",
    "    self.fc2 = nn.Linear(32,64)\n",
    "    self.fc3 = nn.Linear(64,1)\n",
    "    \n",
    "  def forward(self,x):\n",
    "    x = torch.relu(self.fc1(x))\n",
    "    x = torch.relu(self.fc2(x))\n",
    "    x = torch.sigmoid(self.fc3(x))\n",
    "    \n",
    "    return x"
   ]
  },
  {
   "cell_type": "code",
   "execution_count": 6,
   "metadata": {},
   "outputs": [],
   "source": [
    "learning_rate = 0.002\n",
    "epochs = 200\n",
    "\n",
    "# Model , Optimizer, Loss\n",
    "model = Net(input_shape=x.shape[1])\n",
    "#optimizer = torch.optim.SGD(model.parameters(),lr=learning_rate)\n",
    "optimizer = torch.optim.Adam(model.parameters(),lr=learning_rate)\n",
    "loss_fn = nn.BCELoss()"
   ]
  },
  {
   "cell_type": "code",
   "execution_count": 7,
   "metadata": {},
   "outputs": [
    {
     "name": "stdout",
     "output_type": "stream",
     "text": [
      "epoch 0\tloss : 0.7669116854667664\t acc : 0.6274165202108963\n",
      "epoch 0\tloss : 0.6871923804283142\t acc : 0.6274165202108963\n",
      "epoch 0\tloss : 0.6743159294128418\t acc : 0.6414762741652021\n",
      "epoch 0\tloss : 0.6764151453971863\t acc : 0.6625659050966608\n",
      "epoch 0\tloss : 0.6434087753295898\t acc : 0.6959578207381371\n",
      "epoch 0\tloss : 0.6297008395195007\t acc : 0.7627416520210897\n",
      "epoch 0\tloss : 0.6171368360519409\t acc : 0.8084358523725835\n",
      "epoch 0\tloss : 0.6053314805030823\t acc : 0.836555360281195\n",
      "epoch 0\tloss : 0.5902268886566162\t acc : 0.8646748681898067\n",
      "epoch 20\tloss : 0.03153533115983009\t acc : 0.9912126537785588\n",
      "epoch 20\tloss : 0.04487341642379761\t acc : 0.9912126537785588\n",
      "epoch 20\tloss : 0.04862436279654503\t acc : 0.9912126537785588\n",
      "epoch 20\tloss : 0.023798879235982895\t acc : 0.9912126537785588\n",
      "epoch 20\tloss : 0.0888151004910469\t acc : 0.9912126537785588\n",
      "epoch 20\tloss : 0.010956209152936935\t acc : 0.9912126537785588\n",
      "epoch 20\tloss : 0.017213469371199608\t acc : 0.9912126537785588\n",
      "epoch 20\tloss : 0.019798491150140762\t acc : 0.9912126537785588\n",
      "epoch 20\tloss : 0.03866422921419144\t acc : 0.9912126537785588\n",
      "epoch 40\tloss : 0.011388174258172512\t acc : 0.9964850615114236\n",
      "epoch 40\tloss : 0.014144321903586388\t acc : 0.9964850615114236\n",
      "epoch 40\tloss : 0.02124476246535778\t acc : 0.9964850615114236\n",
      "epoch 40\tloss : 0.005990789271891117\t acc : 0.9964850615114236\n",
      "epoch 40\tloss : 0.026118570938706398\t acc : 0.9964850615114236\n",
      "epoch 40\tloss : 0.0018110297387465835\t acc : 0.9964850615114236\n",
      "epoch 40\tloss : 0.00587175227701664\t acc : 0.9964850615114236\n",
      "epoch 40\tloss : 0.013725549913942814\t acc : 0.9964850615114236\n",
      "epoch 40\tloss : 0.010611867532134056\t acc : 0.9964850615114236\n",
      "epoch 60\tloss : 0.004106034524738789\t acc : 1.0\n",
      "epoch 60\tloss : 0.00425447104498744\t acc : 1.0\n",
      "epoch 60\tloss : 0.006160573568195105\t acc : 1.0\n",
      "epoch 60\tloss : 0.0014541178243234754\t acc : 1.0\n",
      "epoch 60\tloss : 0.005548221990466118\t acc : 1.0\n",
      "epoch 60\tloss : 0.0003785440349020064\t acc : 1.0\n",
      "epoch 60\tloss : 0.001431058393791318\t acc : 1.0\n",
      "epoch 60\tloss : 0.004589598625898361\t acc : 1.0\n",
      "epoch 60\tloss : 0.002343726810067892\t acc : 1.0\n",
      "epoch 80\tloss : 0.0016236759256571531\t acc : 1.0\n",
      "epoch 80\tloss : 0.0016252439236268401\t acc : 1.0\n",
      "epoch 80\tloss : 0.002083515515550971\t acc : 1.0\n",
      "epoch 80\tloss : 0.0005224813940003514\t acc : 1.0\n",
      "epoch 80\tloss : 0.0018300791271030903\t acc : 1.0\n",
      "epoch 80\tloss : 0.00013901572674512863\t acc : 1.0\n",
      "epoch 80\tloss : 0.00039847465814091265\t acc : 1.0\n",
      "epoch 80\tloss : 0.0017401395598426461\t acc : 1.0\n",
      "epoch 80\tloss : 0.0008584455936215818\t acc : 1.0\n",
      "epoch 100\tloss : 0.0008658329024910927\t acc : 1.0\n",
      "epoch 100\tloss : 0.00081460369983688\t acc : 1.0\n",
      "epoch 100\tloss : 0.0009769665775820613\t acc : 1.0\n",
      "epoch 100\tloss : 0.0002697059535421431\t acc : 1.0\n",
      "epoch 100\tloss : 0.0008958335965871811\t acc : 1.0\n",
      "epoch 100\tloss : 6.45481632091105e-05\t acc : 1.0\n",
      "epoch 100\tloss : 0.00017999614647123963\t acc : 1.0\n",
      "epoch 100\tloss : 0.0007562787504866719\t acc : 1.0\n",
      "epoch 100\tloss : 0.0003834507369901985\t acc : 1.0\n",
      "epoch 120\tloss : 0.000533061393070966\t acc : 1.0\n",
      "epoch 120\tloss : 0.000472624902613461\t acc : 1.0\n",
      "epoch 120\tloss : 0.0005549162160605192\t acc : 1.0\n",
      "epoch 120\tloss : 0.00015683694800827652\t acc : 1.0\n",
      "epoch 120\tloss : 0.0005245214561000466\t acc : 1.0\n",
      "epoch 120\tloss : 3.9191381802083924e-05\t acc : 1.0\n",
      "epoch 120\tloss : 0.00010031033161794767\t acc : 1.0\n",
      "epoch 120\tloss : 0.0004599954991135746\t acc : 1.0\n",
      "epoch 120\tloss : 0.00021634064614772797\t acc : 1.0\n",
      "epoch 140\tloss : 0.0003498101432342082\t acc : 1.0\n",
      "epoch 140\tloss : 0.0002958192490041256\t acc : 1.0\n",
      "epoch 140\tloss : 0.00037633514148183167\t acc : 1.0\n",
      "epoch 140\tloss : 0.0001008569888654165\t acc : 1.0\n",
      "epoch 140\tloss : 0.0003388436743989587\t acc : 1.0\n",
      "epoch 140\tloss : 2.6437071937834844e-05\t acc : 1.0\n",
      "epoch 140\tloss : 6.20177379460074e-05\t acc : 1.0\n",
      "epoch 140\tloss : 0.0002939130936283618\t acc : 1.0\n",
      "epoch 140\tloss : 0.00013528025010600686\t acc : 1.0\n",
      "epoch 160\tloss : 0.00024021559511311352\t acc : 1.0\n",
      "epoch 160\tloss : 0.0002047921298071742\t acc : 1.0\n",
      "epoch 160\tloss : 0.0002476052613928914\t acc : 1.0\n",
      "epoch 160\tloss : 7.130851736292243e-05\t acc : 1.0\n",
      "epoch 160\tloss : 0.00022840156452730298\t acc : 1.0\n",
      "epoch 160\tloss : 1.8637258108356036e-05\t acc : 1.0\n",
      "epoch 160\tloss : 4.26700571551919e-05\t acc : 1.0\n",
      "epoch 160\tloss : 0.00020790990674868226\t acc : 1.0\n",
      "epoch 160\tloss : 9.112561383517459e-05\t acc : 1.0\n",
      "epoch 180\tloss : 0.00017711434338707477\t acc : 1.0\n",
      "epoch 180\tloss : 0.00014675210695713758\t acc : 1.0\n",
      "epoch 180\tloss : 0.00018178019672632217\t acc : 1.0\n",
      "epoch 180\tloss : 5.085813609184697e-05\t acc : 1.0\n",
      "epoch 180\tloss : 0.00016687247261870652\t acc : 1.0\n",
      "epoch 180\tloss : 1.411443645338295e-05\t acc : 1.0\n",
      "epoch 180\tloss : 2.9907698262832128e-05\t acc : 1.0\n",
      "epoch 180\tloss : 0.000146043676068075\t acc : 1.0\n",
      "epoch 180\tloss : 6.389243935700506e-05\t acc : 1.0\n"
     ]
    }
   ],
   "source": [
    "loss_list = []\n",
    "acc_list = []\n",
    "for i in range(epochs):\n",
    "  for j,(x_train,y_train) in enumerate(trainloader):\n",
    "    \n",
    "    #calculate output\n",
    "    output = model(x_train)\n",
    " \n",
    "    #calculate loss\n",
    "    loss = loss_fn(output,y_train.reshape(-1,1))\n",
    " \n",
    "    #accuracy\n",
    "    predicted = model(torch.tensor(x,dtype=torch.float32))\n",
    "    acc = (predicted.reshape(-1).detach().numpy().round() == y).mean()\n",
    "    \n",
    "    #backprop\n",
    "    optimizer.zero_grad()\n",
    "    loss.backward()\n",
    "    optimizer.step()\n",
    "\n",
    "    \n",
    "    if i%20 == 0:\n",
    "        loss1 = loss.detach().cpu().numpy()\n",
    "        loss_list.append(loss1)\n",
    "        acc_list.append(acc)\n",
    "        print(\"epoch {}\\tloss : {}\\t acc : {}\".format(i,loss1,acc))"
   ]
  },
  {
   "cell_type": "code",
   "execution_count": 8,
   "metadata": {},
   "outputs": [
    {
     "data": {
      "text/plain": [
       "Text(0.5, 0, 'epochs')"
      ]
     },
     "execution_count": 8,
     "metadata": {},
     "output_type": "execute_result"
    },
    {
     "data": {
      "image/png": "[encoded data removed]",
      "text/plain": [
       "<Figure size 576x216 with 2 Axes>"
      ]
     },
     "metadata": {
      "needs_background": "light"
     },
     "output_type": "display_data"
    }
   ],
   "source": [
    "nx,ny = 2,1\n",
    "fig, ax = plt.subplots(ny,nx,figsize=(nx*4,ny*3))\n",
    "    \n",
    "ax[0].plot(loss_list)\n",
    "ax[1].plot(acc_list)\n",
    "ax[0].set_ylabel(\"loss\")\n",
    "ax[1].set_ylabel(\"acc\")\n",
    "ax[0].set_xlabel(\"epochs\")\n",
    "ax[1].set_xlabel(\"epochs\")"
   ]
  },
  {
   "cell_type": "code",
   "execution_count": null,
   "metadata": {},
   "outputs": [],
   "source": []
  }
 ],
 "metadata": {
  "kernelspec": {
   "display_name": "Python 3 (ipykernel)",
   "language": "python",
   "name": "python3"
  },
  "language_info": {
   "codemirror_mode": {
    "name": "ipython",
    "version": 3
   },
   "file_extension": ".py",
   "mimetype": "text/x-python",
   "name": "python",
   "nbconvert_exporter": "python",
   "pygments_lexer": "ipython3",
   "version": "3.7.4"
  }
 },
 "nbformat": 4,
 "nbformat_minor": 4
}
