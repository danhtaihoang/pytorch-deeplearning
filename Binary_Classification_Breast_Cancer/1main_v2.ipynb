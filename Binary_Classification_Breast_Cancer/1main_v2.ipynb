{
 "cells": [
  {
   "cell_type": "markdown",
   "metadata": {},
   "source": [
    "## Pytorch for Binary Classification"
   ]
  },
  {
   "cell_type": "code",
   "execution_count": 1,
   "metadata": {},
   "outputs": [
    {
     "name": "stdout",
     "output_type": "stream",
     "text": [
      "device: cpu\n"
     ]
    }
   ],
   "source": [
    "import torch\n",
    "import numpy as np\n",
    "import matplotlib.pyplot as plt\n",
    "from sklearn.datasets import load_breast_cancer\n",
    "from sklearn.preprocessing import StandardScaler\n",
    "from torch import nn\n",
    "from torch.nn import functional as F\n",
    "from torch.utils.data import Dataset, DataLoader\n",
    "from sklearn.model_selection import train_test_split\n",
    "\n",
    "from sklearn.metrics import confusion_matrix,accuracy_score,precision_score,\\\n",
    "recall_score,roc_curve,auc\n",
    "\n",
    "## check available device\n",
    "device = (torch.device('cuda') if torch.cuda.is_available() else torch.device('cpu'))\n",
    "print(\"device:\", device)\n",
    "\n",
    "##-----\n",
    "#init_random_seed(random_seed=42)"
   ]
  },
  {
   "cell_type": "code",
   "execution_count": 2,
   "metadata": {},
   "outputs": [],
   "source": [
    "max_epochs,patience = 50,20"
   ]
  },
  {
   "cell_type": "code",
   "execution_count": 3,
   "metadata": {},
   "outputs": [
    {
     "name": "stdout",
     "output_type": "stream",
     "text": [
      "(569, 30) (569,)\n",
      "[[1.799e+01 1.038e+01 1.228e+02 1.001e+03 1.184e-01 2.776e-01 3.001e-01\n",
      "  1.471e-01 2.419e-01 7.871e-02 1.095e+00 9.053e-01 8.589e+00 1.534e+02\n",
      "  6.399e-03 4.904e-02 5.373e-02 1.587e-02 3.003e-02 6.193e-03 2.538e+01\n",
      "  1.733e+01 1.846e+02 2.019e+03 1.622e-01 6.656e-01 7.119e-01 2.654e-01\n",
      "  4.601e-01 1.189e-01]\n",
      " [2.057e+01 1.777e+01 1.329e+02 1.326e+03 8.474e-02 7.864e-02 8.690e-02\n",
      "  7.017e-02 1.812e-01 5.667e-02 5.435e-01 7.339e-01 3.398e+00 7.408e+01\n",
      "  5.225e-03 1.308e-02 1.860e-02 1.340e-02 1.389e-02 3.532e-03 2.499e+01\n",
      "  2.341e+01 1.588e+02 1.956e+03 1.238e-01 1.866e-01 2.416e-01 1.860e-01\n",
      "  2.750e-01 8.902e-02]\n",
      " [1.969e+01 2.125e+01 1.300e+02 1.203e+03 1.096e-01 1.599e-01 1.974e-01\n",
      "  1.279e-01 2.069e-01 5.999e-02 7.456e-01 7.869e-01 4.585e+00 9.403e+01\n",
      "  6.150e-03 4.006e-02 3.832e-02 2.058e-02 2.250e-02 4.571e-03 2.357e+01\n",
      "  2.553e+01 1.525e+02 1.709e+03 1.444e-01 4.245e-01 4.504e-01 2.430e-01\n",
      "  3.613e-01 8.758e-02]\n",
      " [1.142e+01 2.038e+01 7.758e+01 3.861e+02 1.425e-01 2.839e-01 2.414e-01\n",
      "  1.052e-01 2.597e-01 9.744e-02 4.956e-01 1.156e+00 3.445e+00 2.723e+01\n",
      "  9.110e-03 7.458e-02 5.661e-02 1.867e-02 5.963e-02 9.208e-03 1.491e+01\n",
      "  2.650e+01 9.887e+01 5.677e+02 2.098e-01 8.663e-01 6.869e-01 2.575e-01\n",
      "  6.638e-01 1.730e-01]\n",
      " [2.029e+01 1.434e+01 1.351e+02 1.297e+03 1.003e-01 1.328e-01 1.980e-01\n",
      "  1.043e-01 1.809e-01 5.883e-02 7.572e-01 7.813e-01 5.438e+00 9.444e+01\n",
      "  1.149e-02 2.461e-02 5.688e-02 1.885e-02 1.756e-02 5.115e-03 2.254e+01\n",
      "  1.667e+01 1.522e+02 1.575e+03 1.374e-01 2.050e-01 4.000e-01 1.625e-01\n",
      "  2.364e-01 7.678e-02]]\n",
      "[0 0 0 0 0]\n"
     ]
    }
   ],
   "source": [
    "data = load_breast_cancer()\n",
    "x = data['data']\n",
    "y = data['target']\n",
    "\n",
    "print(x.shape, y.shape)\n",
    "print(x[:5])\n",
    "print(y[:5])"
   ]
  },
  {
   "cell_type": "code",
   "execution_count": 4,
   "metadata": {},
   "outputs": [
    {
     "name": "stdout",
     "output_type": "stream",
     "text": [
      "(341,) (228,)\n"
     ]
    }
   ],
   "source": [
    "train_idx, valid_idx = train_test_split(np.arange(y.shape[0]), test_size=0.4, shuffle=True)\n",
    "print(train_idx.shape, valid_idx.shape)\n",
    "\n",
    "x_train = x[train_idx]\n",
    "x_valid = x[valid_idx]\n",
    "\n",
    "y_train = y[train_idx]\n",
    "y_valid = y[valid_idx]"
   ]
  },
  {
   "cell_type": "code",
   "execution_count": 5,
   "metadata": {},
   "outputs": [],
   "source": [
    "## feature scaling\n",
    "sc = StandardScaler()\n",
    "x_train = sc.fit_transform(x_train)\n",
    "x_valid = sc.transform(x_valid)"
   ]
  },
  {
   "cell_type": "code",
   "execution_count": 6,
   "metadata": {},
   "outputs": [],
   "source": [
    "class dataset(Dataset):\n",
    "  def __init__(self,x,y):\n",
    "    self.x = torch.tensor(x,dtype=torch.float32)\n",
    "    self.y = torch.tensor(y,dtype=torch.float32)\n",
    "    self.length = self.x.shape[0]\n",
    " \n",
    "  def __getitem__(self,idx):\n",
    "    return self.x[idx],self.y[idx]\n",
    "  def __len__(self):\n",
    "    return self.length\n",
    "\n",
    "trainset = dataset(x_train,y_train)\n",
    "validset = dataset(x_valid,y_valid)\n",
    "\n",
    "#DataLoader\n",
    "train_loader = DataLoader(trainset,batch_size=64,shuffle=True)\n",
    "valid_loader = DataLoader(validset,batch_size=64,shuffle=False)"
   ]
  },
  {
   "cell_type": "code",
   "execution_count": 7,
   "metadata": {},
   "outputs": [],
   "source": [
    "class Net(nn.Module):\n",
    "  def __init__(self,input_shape):\n",
    "    super(Net,self).__init__()\n",
    "    self.fc1 = nn.Linear(input_shape,32)\n",
    "    self.fc2 = nn.Linear(32,64)\n",
    "    self.fc3 = nn.Linear(64,1)\n",
    "    \n",
    "  def forward(self,x):\n",
    "    x = torch.relu(self.fc1(x))\n",
    "    x = torch.relu(self.fc2(x))\n",
    "    x = torch.sigmoid(self.fc3(x))\n",
    "    \n",
    "    return x"
   ]
  },
  {
   "cell_type": "code",
   "execution_count": 8,
   "metadata": {},
   "outputs": [],
   "source": [
    "learning_rate = 0.002\n",
    "epochs = 200\n",
    "\n",
    "# Model , Optimizer, Loss\n",
    "model = Net(input_shape=x.shape[1])\n",
    "#optimizer = torch.optim.SGD(model.parameters(),lr=learning_rate)\n",
    "optimizer = torch.optim.Adam(model.parameters(),lr=learning_rate)\n",
    "loss_fn = nn.BCELoss()"
   ]
  },
  {
   "cell_type": "code",
   "execution_count": 9,
   "metadata": {},
   "outputs": [],
   "source": [
    "def training_epoch(model, optimizer, train_loader,loss_fn):\n",
    "    model.train()\n",
    "\n",
    "    labels = []\n",
    "    preds = []\n",
    "    loss_list = []\n",
    "    acc_list = []\n",
    "    for x,y in train_loader:       ## repeat times = len(train_set)/batch_size\n",
    "        #print(\"x.shape:\", x.shape)\n",
    "        #print(\"y.shape:\", y.shape)\n",
    "\n",
    "        labels += [y.reshape(-1).detach().cpu().numpy()]\n",
    "\n",
    "        pred = model(x.float().to(device))       \n",
    "        #print(\"pred.shape:\", pred.shape)\n",
    "        \n",
    "        preds += [pred.reshape(-1).detach().cpu().numpy()]\n",
    "\n",
    "        loss = loss_fn(pred, y.float().to(device).reshape(-1,1))\n",
    "        loss_list += [loss.detach().cpu().numpy()] ## add loss of each sample to a list\n",
    "\n",
    "        ## reset gradients to zero\n",
    "        optimizer.zero_grad()\n",
    "\n",
    "        ## compute gradients\n",
    "        loss.backward()\n",
    "\n",
    "        ## update parameters using gradients\n",
    "        optimizer.step()\n",
    "    \n",
    "        #if i%20 == 0:\n",
    "        #    loss1 = loss.detach().cpu().numpy()\n",
    "        #    loss_list.append(loss1)\n",
    "        #    acc_list.append(acc)\n",
    "        #    print(\"epoch {}\\tloss : {}\\t acc : {}\".format(i,loss1,acc))\n",
    "        \n",
    "        \n",
    "        \n",
    "    return np.mean(loss_list) #,np.mean(coef),np.mean(slope)"
   ]
  },
  {
   "cell_type": "code",
   "execution_count": 10,
   "metadata": {},
   "outputs": [],
   "source": [
    "def predict(model, dataloader, loss_fn):\n",
    "    model.eval()\n",
    "    \n",
    "    labels = []\n",
    "    preds = []\n",
    "    loss_list = []\n",
    "\n",
    "    with torch.no_grad():\n",
    "        for x, y in dataloader:         ## load x, y from dataloader for each batch\n",
    "            \n",
    "            labels += [y.reshape(-1).detach().cpu().numpy()]  ## y_actual\n",
    "            pred = model(x.float().to(device))                ## y_pred = model(x)\n",
    "\n",
    "            loss = loss_fn(pred, y.float().to(device).reshape(-1,1))\n",
    "            loss_list += [loss.detach().cpu().numpy()] ## convert to numpy\n",
    "\n",
    "            #pred = nn.ReLU()(pred)                    ## y_pred\n",
    "            preds += [pred.reshape(-1).detach().cpu().numpy()]     ## convert to numpy\n",
    "    \n",
    "    ## convert list to 2D array\n",
    "    labels = np.concatenate(labels)\n",
    "    preds = np.concatenate(preds)\n",
    "        \n",
    "    #coef,slope = compute_coef_slope(labels, preds)\n",
    "    \n",
    "    return np.mean(loss_list),labels,preds"
   ]
  },
  {
   "cell_type": "code",
   "execution_count": 11,
   "metadata": {},
   "outputs": [],
   "source": [
    "train_loss_list = []\n",
    "valid_loss_list = []\n",
    "\n",
    "train_acc_list = []\n",
    "\n",
    "valid_acc_list = []\n",
    "valid_precision_list = []\n",
    "valid_recall_list = []\n",
    "\n",
    "epoch_since_best = 0\n",
    "valid_coef_old = -1.\n",
    "for e in range(max_epochs):\n",
    "    epoch_since_best += 1\n",
    "\n",
    "    ## train\n",
    "    train_loss = training_epoch(model, optimizer, train_loader, loss_fn)\n",
    "\n",
    "    ## predict\n",
    "    train_loss, train_labels, train_preds_prob = predict(model, train_loader, loss_fn)\n",
    "    valid_loss, valid_labels, valid_preds_prob = predict(model, valid_loader, loss_fn)\n",
    "    \n",
    "    train_preds = train_preds_prob.round()\n",
    "    valid_preds = valid_preds_prob.round()\n",
    "    \n",
    "    train_acc = accuracy_score(train_labels, train_preds)\n",
    "    valid_acc = accuracy_score(valid_labels, valid_preds)\n",
    "    valid_precision = precision_score(valid_labels, valid_preds)\n",
    "    valid_recall = recall_score(valid_labels, valid_preds)\n",
    "    \n",
    "    ##--------------------------\n",
    "    train_loss_list.append(train_loss)\n",
    "    valid_loss_list.append(valid_loss)\n",
    "    \n",
    "    train_acc_list.append(train_acc)\n",
    "    valid_acc_list.append(valid_acc)\n",
    "    valid_precision_list.append(valid_precision)\n",
    "    valid_recall_list.append(valid_recall)"
   ]
  },
  {
   "cell_type": "code",
   "execution_count": 12,
   "metadata": {},
   "outputs": [
    {
     "name": "stderr",
     "output_type": "stream",
     "text": [
      "No handles with labels found to put in legend.\n"
     ]
    },
    {
     "data": {
      "image/png": "[encoded data removed]",
      "text/plain": [
       "<Figure size 1152x216 with 4 Axes>"
      ]
     },
     "metadata": {
      "needs_background": "light"
     },
     "output_type": "display_data"
    }
   ],
   "source": [
    "nx,ny = 4,1\n",
    "fig, ax = plt.subplots(ny,nx,figsize=(nx*4,ny*3))\n",
    "ax[0].plot(train_loss_list, 'k--', label=\"train-tile\")\n",
    "ax[0].plot(valid_loss_list, 'b-', label=\"valid-tile\")\n",
    "\n",
    "ax[1].plot(train_acc_list, 'k--', label=\"train-tile\")\n",
    "ax[1].plot(valid_acc_list, 'b-', label=\"valid-tile\")\n",
    "\n",
    "ax[2].plot(valid_precision_list, 'b-', label=\"precision-tile\")\n",
    "\n",
    "for i in range(nx):\n",
    "    ax[i].set_xlabel(\"n_epochs\")\n",
    "    ax[i].legend()\n",
    "\n",
    "ax[0].set_ylabel(\"loss\")\n",
    "ax[1].set_ylabel(\"acc\")\n",
    "ax[2].set_ylabel(\"precision\")\n",
    "ax[3].set_ylabel(\"recall\")\n",
    "\n",
    "plt.tight_layout(h_pad=1, w_pad= 0.5)\n",
    "#plt.savefig(\"loss.pdf\", format='pdf', dpi=50)"
   ]
  }
 ],
 "metadata": {
  "kernelspec": {
   "display_name": "Python 3 (ipykernel)",
   "language": "python",
   "name": "python3"
  },
  "language_info": {
   "codemirror_mode": {
    "name": "ipython",
    "version": 3
   },
   "file_extension": ".py",
   "mimetype": "text/x-python",
   "name": "python",
   "nbconvert_exporter": "python",
   "pygments_lexer": "ipython3",
   "version": "3.9.7"
  }
 },
 "nbformat": 4,
 "nbformat_minor": 4
}
