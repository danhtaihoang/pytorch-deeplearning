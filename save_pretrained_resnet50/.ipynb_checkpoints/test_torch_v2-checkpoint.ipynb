{
 "cells": [
  {
   "cell_type": "code",
   "execution_count": 1,
   "metadata": {},
   "outputs": [
    {
     "name": "stdout",
     "output_type": "stream",
     "text": [
      "device: cpu\n"
     ]
    }
   ],
   "source": [
    "import numpy as np\n",
    "import pandas as pd\n",
    "import matplotlib.pyplot as plt\n",
    "import os,sys,time,platform\n",
    "#import openslide\n",
    "from PIL import Image\n",
    "#from tqdm import tqdm\n",
    "#import tensorflow as tf\n",
    "#from tensorflow.keras.applications.resnet50 import preprocess_input\n",
    "import torch\n",
    "from torch import nn\n",
    "import torchvision.transforms as transforms\n",
    "from torchvision.models import resnet50, ResNet50_Weights\n",
    "\n",
    "#from torchvision import models as torch_models\n",
    "#from utils_preprocessing import *\n",
    "#import utils_color_norm\n",
    "#color_norm = utils_color_norm.macenko_normalizer()\n",
    "\n",
    "## check available device\n",
    "device = (torch.device('cuda') if torch.cuda.is_available() else torch.device('cpu'))\n",
    "print(\"device:\", device)"
   ]
  },
  {
   "cell_type": "code",
   "execution_count": 2,
   "metadata": {},
   "outputs": [],
   "source": [
    "class ResNet_extractor(nn.Module):\n",
    "    def __init__(self, layers=101):\n",
    "        super().__init__()\n",
    "        \n",
    "        self.resnet = resnet50(weights=ResNet50_Weights.IMAGENET1K_V2)\n",
    "        \n",
    "    def forward(self, x):\n",
    "        x = self.resnet.conv1(x)\n",
    "        x = self.resnet.bn1(x)\n",
    "        x = self.resnet.relu(x)\n",
    "        x = self.resnet.maxpool(x)\n",
    "\n",
    "        x = self.resnet.layer1(x)\n",
    "        x = self.resnet.layer2(x)\n",
    "        x = self.resnet.layer3(x)\n",
    "        x = self.resnet.layer4(x)\n",
    "\n",
    "        x = self.resnet.avgpool(x)\n",
    "        x = torch.flatten(x, 1)\n",
    "        return x"
   ]
  },
  {
   "cell_type": "code",
   "execution_count": 3,
   "metadata": {},
   "outputs": [
    {
     "name": "stdout",
     "output_type": "stream",
     "text": [
      "['tile_00008_00028_00884_016.png' 'tile_00009_00027_00990_016.png'\n",
      " 'tile_00009_00028_00991_016.png' 'tile_00010_00025_01095_016.png'\n",
      " 'tile_00010_00026_01096_016.png' 'tile_00010_00027_01097_016.png'\n",
      " 'tile_00010_00028_01098_016.png' 'tile_00011_00024_01201_016.png'\n",
      " 'tile_00011_00027_01204_016.png' 'tile_00011_00028_01205_016.png']\n",
      "n_tiles: 10\n"
     ]
    }
   ],
   "source": [
    "path2tiles = \"test_10tiles/\"\n",
    "## collect selecting tile names within a slide folder\n",
    "tile_names = []\n",
    "for f in os.listdir(path2tiles):\n",
    "    if f.startswith(\"tile_\"):\n",
    "        tile_names.append(f)\n",
    "\n",
    "## alphabet sort\n",
    "tile_names = np.array(sorted(tile_names))\n",
    "print(tile_names)\n",
    "\n",
    "n_tiles = len(tile_names)\n",
    "print(\"n_tiles:\", n_tiles)"
   ]
  },
  {
   "cell_type": "code",
   "execution_count": 4,
   "metadata": {},
   "outputs": [],
   "source": [
    "model = ResNet_extractor().to(device)\n",
    "model = model.eval()"
   ]
  },
  {
   "cell_type": "code",
   "execution_count": 11,
   "metadata": {},
   "outputs": [
    {
     "name": "stdout",
     "output_type": "stream",
     "text": [
      "images.shape: torch.Size([10, 3, 224, 224])\n",
      "[[0.39564735 0.06662726 0.04606546 ... 0.00815702 0.         0.0419994 ]\n",
      " [0.         0.         0.         ... 0.         0.         0.1474486 ]\n",
      " [0.         0.03593484 0.         ... 0.         0.         0.        ]\n",
      " ...\n",
      " [0.         0.23606536 0.         ... 0.         0.18256792 0.14561105]\n",
      " [0.         0.00674241 0.         ... 0.         0.05860539 0.0130011 ]\n",
      " [0.13101004 0.05670935 0.06373777 ... 0.         0.01363729 0.076419  ]]\n",
      "(10, 2048)\n"
     ]
    }
   ],
   "source": [
    "data_transform = transforms.Compose([transforms.Resize(224),\n",
    "                                     transforms.ToTensor(),\n",
    "                                     transforms.Normalize(mean=[0.485, 0.456, 0.406], \n",
    "                                                          std=[0.229, 0.224, 0.225])])\n",
    "\n",
    "##----------\n",
    "images = []\n",
    "for i_tile in range(n_tiles):\n",
    "    tile_name = tile_names[i_tile]\n",
    "    image = Image.open(f\"{path2tiles}{tile_name}\").convert('RGB')\n",
    "\n",
    "    image = data_transform(image).unsqueeze(0)\n",
    "    images.append(image)\n",
    "    \n",
    "images = torch.cat(images, dim=0)\n",
    "print(\"images.shape:\", images.shape)\n",
    "\n",
    "##----------\n",
    "features = model(images.to(device)).detach().cpu().numpy()\n",
    "print(features)\n",
    "print(features.shape)"
   ]
  },
  {
   "cell_type": "code",
   "execution_count": 10,
   "metadata": {},
   "outputs": [
    {
     "name": "stdout",
     "output_type": "stream",
     "text": [
      "images.shape: torch.Size([10, 3, 224, 224])\n",
      "[[0.3924958  0.04756422 0.12273677 ... 0.0130453  0.05225992 0.10770155]\n",
      " [0.         0.         0.00140593 ... 0.02184588 0.00726311 0.0515567 ]\n",
      " [0.02336547 0.00755617 0.         ... 0.02094547 0.         0.02393915]\n",
      " ...\n",
      " [0.00316902 0.01502655 0.         ... 0.         0.06093709 0.00620735]\n",
      " [0.         0.00764204 0.         ... 0.         0.03179432 0.        ]\n",
      " [0.         0.08819415 0.04376324 ... 0.02157616 0.0508974  0.09322774]]\n",
      "(10, 2048)\n"
     ]
    }
   ],
   "source": [
    "data_transform = transforms.Compose([transforms.Resize(224),\n",
    "                                     transforms.ToTensor()])\n",
    "\n",
    "##----------\n",
    "images = []\n",
    "for i_tile in range(n_tiles):\n",
    "    tile_name = tile_names[i_tile]\n",
    "    image = Image.open(f\"{path2tiles}{tile_name}\").convert('RGB')\n",
    "\n",
    "    image = data_transform(image).unsqueeze(0)\n",
    "    images.append(image)\n",
    "    \n",
    "images = torch.cat(images, dim=0)\n",
    "print(\"images.shape:\", images.shape)\n",
    "\n",
    "##----------\n",
    "features2 = model(images.to(device)).detach().cpu().numpy()\n",
    "print(features2)\n",
    "print(features2.shape)"
   ]
  },
  {
   "cell_type": "code",
   "execution_count": 14,
   "metadata": {},
   "outputs": [
    {
     "data": {
      "text/plain": [
       "[<matplotlib.lines.Line2D at 0x7fa0aa166760>]"
      ]
     },
     "execution_count": 14,
     "metadata": {},
     "output_type": "execute_result"
    },
    {
     "data": {
      "image/png": "[encoded data removed]",
      "text/plain": [
       "<Figure size 432x288 with 1 Axes>"
      ]
     },
     "metadata": {
      "needs_background": "light"
     },
     "output_type": "display_data"
    }
   ],
   "source": [
    "plt.plot(features.flatten(),features2.flatten(),\"o\")"
   ]
  },
  {
   "cell_type": "code",
   "execution_count": 15,
   "metadata": {},
   "outputs": [
    {
     "name": "stderr",
     "output_type": "stream",
     "text": [
      "2022-10-08 21:05:42.215623: I tensorflow/core/platform/cpu_feature_guard.cc:151] This TensorFlow binary is optimized with oneAPI Deep Neural Network Library (oneDNN) to use the following CPU instructions in performance-critical operations:  AVX2 FMA\n",
      "To enable them in other operations, rebuild TensorFlow with the appropriate compiler flags.\n"
     ]
    },
    {
     "name": "stdout",
     "output_type": "stream",
     "text": [
      "WARNING:tensorflow:No training configuration found in the save file, so the model was *not* compiled. Compile it manually.\n"
     ]
    }
   ],
   "source": [
    "## Tensorflow\n",
    "import tensorflow as tf\n",
    "model3 = tf.keras.models.load_model(\"../ResNet50_trained.h5\")"
   ]
  },
  {
   "cell_type": "code",
   "execution_count": 16,
   "metadata": {},
   "outputs": [],
   "source": [
    "images = []\n",
    "for i_tile in range(n_tiles):\n",
    "    tile_name = tile_names[i_tile]\n",
    "    image = np.array(Image.open(f\"{path2tiles}{tile_name}\").convert('RGB'))\n",
    "    images.append(image)"
   ]
  },
  {
   "cell_type": "code",
   "execution_count": 18,
   "metadata": {},
   "outputs": [],
   "source": [
    "tiles = np.zeros((10, 512, 512, 3)).astype(np.uint8)\n",
    "for i in range(10):\n",
    "    tiles[i] = images[i]"
   ]
  },
  {
   "cell_type": "code",
   "execution_count": 19,
   "metadata": {},
   "outputs": [
    {
     "ename": "NameError",
     "evalue": "name 'preprocess_input' is not defined",
     "output_type": "error",
     "traceback": [
      "\u001b[0;31m---------------------------------------------------------------------------\u001b[0m",
      "\u001b[0;31mNameError\u001b[0m                                 Traceback (most recent call last)",
      "\u001b[0;32m/var/folders/7_/nlk2y1bj7vg_t9_g4qgc4nfmx_pf8b/T/ipykernel_18928/3658969724.py\u001b[0m in \u001b[0;36m<module>\u001b[0;34m\u001b[0m\n\u001b[1;32m      1\u001b[0m \u001b[0mtiles\u001b[0m \u001b[0;34m=\u001b[0m \u001b[0mtf\u001b[0m\u001b[0;34m.\u001b[0m\u001b[0mimage\u001b[0m\u001b[0;34m.\u001b[0m\u001b[0mresize\u001b[0m\u001b[0;34m(\u001b[0m\u001b[0mtiles\u001b[0m\u001b[0;34m,\u001b[0m\u001b[0;34m(\u001b[0m\u001b[0;36m224\u001b[0m\u001b[0;34m,\u001b[0m\u001b[0;36m224\u001b[0m\u001b[0;34m)\u001b[0m\u001b[0;34m)\u001b[0m\u001b[0;34m\u001b[0m\u001b[0;34m\u001b[0m\u001b[0m\n\u001b[0;32m----> 2\u001b[0;31m \u001b[0mfeatures3\u001b[0m \u001b[0;34m=\u001b[0m \u001b[0mmodel3\u001b[0m\u001b[0;34m.\u001b[0m\u001b[0mpredict\u001b[0m\u001b[0;34m(\u001b[0m\u001b[0mpreprocess_input\u001b[0m\u001b[0;34m(\u001b[0m\u001b[0mtiles\u001b[0m\u001b[0;34m)\u001b[0m\u001b[0;34m,\u001b[0m \u001b[0mbatch_size\u001b[0m\u001b[0;34m=\u001b[0m\u001b[0;36m64\u001b[0m\u001b[0;34m)\u001b[0m\u001b[0;34m\u001b[0m\u001b[0;34m\u001b[0m\u001b[0m\n\u001b[0m",
      "\u001b[0;31mNameError\u001b[0m: name 'preprocess_input' is not defined"
     ]
    }
   ],
   "source": [
    "tiles = tf.image.resize(tiles,(224,224))"
   ]
  },
  {
   "cell_type": "code",
   "execution_count": 20,
   "metadata": {},
   "outputs": [],
   "source": [
    "from tensorflow.keras.applications.resnet50 import preprocess_input\n",
    "features3 = model3.predict(preprocess_input(tiles), batch_size=64)  "
   ]
  },
  {
   "cell_type": "code",
   "execution_count": 22,
   "metadata": {},
   "outputs": [
    {
     "data": {
      "text/plain": [
       "(10, 2048)"
      ]
     },
     "execution_count": 22,
     "metadata": {},
     "output_type": "execute_result"
    }
   ],
   "source": [
    "features3.shape"
   ]
  },
  {
   "cell_type": "code",
   "execution_count": 23,
   "metadata": {},
   "outputs": [
    {
     "data": {
      "text/plain": [
       "[<matplotlib.lines.Line2D at 0x7fa0e9036b50>]"
      ]
     },
     "execution_count": 23,
     "metadata": {},
     "output_type": "execute_result"
    },
    {
     "data": {
      "image/png": "[encoded data removed]",
      "text/plain": [
       "<Figure size 432x288 with 1 Axes>"
      ]
     },
     "metadata": {
      "needs_background": "light"
     },
     "output_type": "display_data"
    }
   ],
   "source": [
    "plt.plot(features2.flatten(),features3.flatten(),\"o\")"
   ]
  },
  {
   "cell_type": "code",
   "execution_count": 24,
   "metadata": {},
   "outputs": [
    {
     "data": {
      "text/plain": [
       "[<matplotlib.lines.Line2D at 0x7fa0e909db80>]"
      ]
     },
     "execution_count": 24,
     "metadata": {},
     "output_type": "execute_result"
    },
    {
     "data": {
      "image/png": "[encoded data removed]",
      "text/plain": [
       "<Figure size 432x288 with 1 Axes>"
      ]
     },
     "metadata": {
      "needs_background": "light"
     },
     "output_type": "display_data"
    }
   ],
   "source": [
    "plt.plot(features.flatten(),features3.flatten(),\"o\")"
   ]
  },
  {
   "cell_type": "code",
   "execution_count": 25,
   "metadata": {},
   "outputs": [
    {
     "data": {
      "text/plain": [
       "[<matplotlib.lines.Line2D at 0x7fa0500dcf70>]"
      ]
     },
     "execution_count": 25,
     "metadata": {},
     "output_type": "execute_result"
    },
    {
     "data": {
      "image/png": "[encoded data removed]",
      "text/plain": [
       "<Figure size 432x288 with 1 Axes>"
      ]
     },
     "metadata": {
      "needs_background": "light"
     },
     "output_type": "display_data"
    }
   ],
   "source": [
    "plt.plot(features.flatten(),features2.flatten(),\"o\")"
   ]
  },
  {
   "cell_type": "code",
   "execution_count": null,
   "metadata": {},
   "outputs": [],
   "source": []
  }
 ],
 "metadata": {
  "kernelspec": {
   "display_name": "Python 3 (ipykernel)",
   "language": "python",
   "name": "python3"
  },
  "language_info": {
   "codemirror_mode": {
    "name": "ipython",
    "version": 3
   },
   "file_extension": ".py",
   "mimetype": "text/x-python",
   "name": "python",
   "nbconvert_exporter": "python",
   "pygments_lexer": "ipython3",
   "version": "3.9.7"
  }
 },
 "nbformat": 4,
 "nbformat_minor": 4
}
