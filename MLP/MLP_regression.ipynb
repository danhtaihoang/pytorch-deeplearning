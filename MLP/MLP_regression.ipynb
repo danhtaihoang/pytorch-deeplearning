{
 "cells": [
  {
   "cell_type": "code",
   "execution_count": 1,
   "metadata": {},
   "outputs": [
    {
     "name": "stdout",
     "output_type": "stream",
     "text": [
      "device: cpu\n"
     ]
    }
   ],
   "source": [
    "import numpy as np\n",
    "import pandas as pd\n",
    "import torch\n",
    "import torch.nn as nn\n",
    "import torch.nn.functional as F\n",
    "from torch import optim\n",
    "from torch.utils.data import Dataset,Subset,DataLoader,ConcatDataset\n",
    "from sklearn.model_selection import train_test_split\n",
    "import os,sys,time\n",
    "import matplotlib.pyplot as plt\n",
    "from torchsummary import summary\n",
    "from tqdm import tqdm\n",
    "\n",
    "## check available device\n",
    "device = (torch.device('cuda') if torch.cuda.is_available() else torch.device('cpu'))\n",
    "print(\"device:\", device)"
   ]
  },
  {
   "cell_type": "code",
   "execution_count": 2,
   "metadata": {},
   "outputs": [],
   "source": [
    "random_seed = 42\n",
    "\n",
    "# Python RNG\n",
    "np.random.seed(random_seed)\n",
    "\n",
    "# Torch RNG\n",
    "torch.manual_seed(random_seed)\n",
    "torch.cuda.manual_seed(random_seed)\n",
    "torch.cuda.manual_seed_all(random_seed)\n",
    "torch.backends.cudnn.deterministic = True\n",
    "torch.backends.cudnn.benchmark = False"
   ]
  },
  {
   "cell_type": "code",
   "execution_count": 3,
   "metadata": {},
   "outputs": [],
   "source": [
    "max_epochs = 40\n",
    "batch_size = 50\n",
    "lr = 0.01\n",
    "train_size = 0.8\n",
    "\n",
    "n_samples = 1000\n",
    "n_features = 5"
   ]
  },
  {
   "cell_type": "code",
   "execution_count": 4,
   "metadata": {},
   "outputs": [],
   "source": [
    "## features\n",
    "def create_regression_data(n_samples, n_features):\n",
    "    x = np.random.normal(0,1,size=(n_samples, n_features))\n",
    "\n",
    "    ## target:\n",
    "    y = x[:,0] + x[:,1] + 2*x[:,2] + 3*x[:,3] + 4*x[:,4] + x[:,0]*x[:,2] + 0.5*x[:,3]*x[:,4] + np.random.rand()\n",
    "    \n",
    "    return x,y"
   ]
  },
  {
   "cell_type": "code",
   "execution_count": 5,
   "metadata": {},
   "outputs": [
    {
     "data": {
      "text/plain": [
       "((1000, 5), (1000,))"
      ]
     },
     "execution_count": 5,
     "metadata": {},
     "output_type": "execute_result"
    }
   ],
   "source": [
    "features, target = create_regression_data(n_samples, n_features)\n",
    "features.shape, target.shape"
   ]
  },
  {
   "cell_type": "code",
   "execution_count": 6,
   "metadata": {},
   "outputs": [],
   "source": [
    "#### Build dataset\n",
    "class BuildDataset(Dataset):\n",
    "    def __init__(self, features, targets):\n",
    "        \n",
    "        self.features = features\n",
    "        self.targets = targets            ## gene_expression_values\n",
    "        self.dim = self.features.shape[2] ## 2048\n",
    "\n",
    "    def __getitem__(self, index):\n",
    "        sample = torch.Tensor(self.features[index,:,:]).float().t()\n",
    "        target = self.targets[index]\n",
    "        return sample, target\n",
    "\n",
    "    def __len__(self):\n",
    "        return self.features.shape[0]"
   ]
  },
  {
   "cell_type": "code",
   "execution_count": 7,
   "metadata": {},
   "outputs": [
    {
     "name": "stdout",
     "output_type": "stream",
     "text": [
      "800\n"
     ]
    }
   ],
   "source": [
    "n_train = int(train_size*n_samples)\n",
    "print(n_train)\n",
    "\n",
    "i_train = np.random.choice(n_samples, n_train, replace=False)\n",
    "i_test = np.setdiff1d(np.arange(n_samples), i_train)\n",
    "\n",
    "dataset = BuildDataset(features[:,:,np.newaxis], target[:, np.newaxis])\n",
    "train_set = Subset(dataset, i_train)\n",
    "test_set = Subset(dataset, i_test)\n",
    "\n",
    "train_loader = DataLoader(train_set, batch_size=batch_size, shuffle=True, num_workers=0)\n",
    "test_loader = DataLoader(test_set, batch_size=batch_size, shuffle=False, num_workers=0)"
   ]
  },
  {
   "cell_type": "code",
   "execution_count": 8,
   "metadata": {},
   "outputs": [],
   "source": [
    "class MLP_regression(nn.Module):\n",
    "    def __init__(self, n_inputs=5, n_outputs=1, n_hiddens=4, dropout=0.1):\n",
    "        super(MLP_regression, self).__init__()\n",
    "        \n",
    "        self.fc1 = nn.Sequential(\n",
    "            nn.Linear(n_inputs, n_hiddens),\n",
    "            #nn.ReLU(),\n",
    "            nn.Dropout(dropout)\n",
    "            )\n",
    "        \n",
    "        self.fc2 = nn.Sequential(\n",
    "            nn.Linear(n_hiddens, n_outputs),\n",
    "            #nn.ReLU(),\n",
    "            nn.Dropout(dropout)\n",
    "            )\n",
    "        \n",
    "        ## initialization\n",
    "        #self.fc2.bias = None ###!!!!\n",
    "        \n",
    "    ###------------\n",
    "    def forward(self,x):\n",
    "        x = self.fc1(x)\n",
    "        x = self.fc2(x)\n",
    "        x = torch.mean(x, axis=2)\n",
    "        \n",
    "        return x"
   ]
  },
  {
   "cell_type": "code",
   "execution_count": 9,
   "metadata": {},
   "outputs": [],
   "source": [
    "n_inputs = 5\n",
    "n_ouputs = 1\n",
    "n_hiddens = 4\n",
    "dropout = 0.05"
   ]
  },
  {
   "cell_type": "code",
   "execution_count": 10,
   "metadata": {
    "scrolled": false
   },
   "outputs": [
    {
     "name": "stdout",
     "output_type": "stream",
     "text": [
      "MLP_regression(\n",
      "  (fc1): Sequential(\n",
      "    (0): Linear(in_features=5, out_features=4, bias=True)\n",
      "    (1): Dropout(p=0.05, inplace=False)\n",
      "  )\n",
      "  (fc2): Sequential(\n",
      "    (0): Linear(in_features=4, out_features=1, bias=True)\n",
      "    (1): Dropout(p=0.05, inplace=False)\n",
      "  )\n",
      ")\n"
     ]
    }
   ],
   "source": [
    "model = MLP_regression(n_inputs, n_ouputs, n_hiddens, dropout)\n",
    "model.to(device)\n",
    "print(model)\n",
    "\n",
    "optimizer = torch.optim.Adam(model.parameters(), lr=lr)"
   ]
  },
  {
   "cell_type": "code",
   "execution_count": 11,
   "metadata": {},
   "outputs": [],
   "source": [
    "def count_parameters(model):\n",
    "    ## count the number of parameters in a model\n",
    "    return sum([p.numel() for p in model.parameters()])"
   ]
  },
  {
   "cell_type": "code",
   "execution_count": 12,
   "metadata": {},
   "outputs": [
    {
     "name": "stdout",
     "output_type": "stream",
     "text": [
      "n_parameters: 29\n"
     ]
    }
   ],
   "source": [
    "n_parameters = count_parameters(model)\n",
    "print(\"n_parameters:\", n_parameters)"
   ]
  },
  {
   "cell_type": "code",
   "execution_count": 13,
   "metadata": {},
   "outputs": [],
   "source": [
    "def train_model(model, optimizer, train_loader, max_epochs):\n",
    "    model.train()\n",
    "    loss_fn = nn.MSELoss()    \n",
    "    train_loss_list = []\n",
    "\n",
    "    for e in range(max_epochs):\n",
    "        labels = []\n",
    "        preds = []\n",
    "        loss_list = []\n",
    "\n",
    "        for x,y in train_loader:       ## repeat times = len(train_set)/batch_size\n",
    "            \n",
    "            labels += [y]\n",
    "\n",
    "            pred = model(x.float().to(device))       \n",
    "            #print(\"pred.shape:\", pred.shape)\n",
    "\n",
    "            loss = loss_fn(pred, y.float().to(device))\n",
    "            loss_list += [loss.detach().cpu().numpy()] ## add loss of each sample to a list\n",
    "\n",
    "            ## reset gradients to zero\n",
    "            optimizer.zero_grad()\n",
    "\n",
    "            ## compute gradients\n",
    "            loss.backward()\n",
    "\n",
    "            ## update parameters using gradients\n",
    "            optimizer.step()\n",
    "\n",
    "            #pred = nn.ReLU()(pred)                      ## y_pred\n",
    "            preds += [pred.detach().cpu().numpy()]      ## convert to numpy\n",
    "\n",
    "        #print(e,np.mean(loss_list))\n",
    "\n",
    "        train_loss = np.mean(loss_list)  \n",
    "        train_loss_list.append(train_loss)\n",
    "        \n",
    "    return train_loss_list"
   ]
  },
  {
   "cell_type": "code",
   "execution_count": 14,
   "metadata": {},
   "outputs": [],
   "source": [
    "def predict(model, dataloader):    \n",
    "    model.eval()\n",
    "    loss_fn = nn.MSELoss()\n",
    "    \n",
    "    labels = []\n",
    "    preds = []\n",
    "    loss_list = []\n",
    "\n",
    "    with torch.no_grad():\n",
    "        for x, y in dataloader:         ## load x, y from dataloader for each batch\n",
    "            labels += [y]                        ## y_actual\n",
    "            pred = model(x.float().to(device))   ## y_pred = model(x)\n",
    "\n",
    "            loss = loss_fn(pred, y.float().to(device))\n",
    "            loss_list += [loss.detach().cpu().numpy()] ## convert to numpy\n",
    "\n",
    "            #pred = nn.ReLU()(pred)                    ## y_pred\n",
    "            preds += [pred.detach().cpu().numpy()]     ## convert to numpy\n",
    "    \n",
    "    ## convert list to 2D array\n",
    "    labels = np.concatenate(labels)\n",
    "    preds = np.concatenate(preds)\n",
    "    \n",
    "    return labels, preds"
   ]
  },
  {
   "cell_type": "code",
   "execution_count": 15,
   "metadata": {},
   "outputs": [],
   "source": [
    "train_loss = train_model(model, optimizer, train_loader, max_epochs)"
   ]
  },
  {
   "cell_type": "code",
   "execution_count": 16,
   "metadata": {},
   "outputs": [
    {
     "data": {
      "text/plain": [
       "[<matplotlib.lines.Line2D at 0x7fd71c01b350>]"
      ]
     },
     "execution_count": 16,
     "metadata": {},
     "output_type": "execute_result"
    },
    {
     "data": {
      "image/png": "[encoded data removed]",
      "text/plain": [
       "<Figure size 432x288 with 1 Axes>"
      ]
     },
     "metadata": {
      "needs_background": "light"
     },
     "output_type": "display_data"
    }
   ],
   "source": [
    "plt.plot(train_loss)"
   ]
  },
  {
   "cell_type": "code",
   "execution_count": 17,
   "metadata": {},
   "outputs": [],
   "source": [
    "labels, preds = predict(model, test_loader)"
   ]
  },
  {
   "cell_type": "code",
   "execution_count": 18,
   "metadata": {},
   "outputs": [
    {
     "data": {
      "text/plain": [
       "[<matplotlib.lines.Line2D at 0x7fd6d8081850>]"
      ]
     },
     "execution_count": 18,
     "metadata": {},
     "output_type": "execute_result"
    },
    {
     "data": {
      "image/png": "[encoded data removed]",
      "text/plain": [
       "<Figure size 432x288 with 1 Axes>"
      ]
     },
     "metadata": {
      "needs_background": "light"
     },
     "output_type": "display_data"
    }
   ],
   "source": [
    "plt.plot(labels, preds, \"o\")\n",
    "plt.plot([labels.min(), labels.max()],[labels.min(), labels.max()],\"--\")"
   ]
  },
  {
   "cell_type": "code",
   "execution_count": null,
   "metadata": {},
   "outputs": [],
   "source": []
  }
 ],
 "metadata": {
  "kernelspec": {
   "display_name": "Python 3",
   "language": "python",
   "name": "python3"
  },
  "language_info": {
   "codemirror_mode": {
    "name": "ipython",
    "version": 3
   },
   "file_extension": ".py",
   "mimetype": "text/x-python",
   "name": "python",
   "nbconvert_exporter": "python",
   "pygments_lexer": "ipython3",
   "version": "3.7.4"
  }
 },
 "nbformat": 4,
 "nbformat_minor": 4
}
