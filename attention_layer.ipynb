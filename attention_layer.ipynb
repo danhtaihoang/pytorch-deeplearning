{
 "cells": [
  {
   "cell_type": "markdown",
   "metadata": {},
   "source": [
    "Refs: https://towardsdatascience.com/illustrated-self-attention-2d627e33b20a"
   ]
  },
  {
   "cell_type": "code",
   "execution_count": 1,
   "metadata": {},
   "outputs": [],
   "source": [
    "import numpy as np\n",
    "#import pandas as pd\n",
    "import torch\n",
    "from torch.nn.functional import softmax"
   ]
  },
  {
   "cell_type": "code",
   "execution_count": 2,
   "metadata": {},
   "outputs": [
    {
     "name": "stdout",
     "output_type": "stream",
     "text": [
      "tensor([[1., 0., 1., 0.],\n",
      "        [0., 2., 0., 2.],\n",
      "        [1., 1., 1., 1.]])\n"
     ]
    }
   ],
   "source": [
    "## Step 1: input\n",
    "x = [[1, 0, 1, 0],[0, 2, 0, 2],[1, 1, 1, 1]]\n",
    "x = torch.tensor(x, dtype=torch.float32)\n",
    "print(x)"
   ]
  },
  {
   "cell_type": "code",
   "execution_count": 3,
   "metadata": {},
   "outputs": [
    {
     "name": "stdout",
     "output_type": "stream",
     "text": [
      "w_key:\n",
      "tensor([[0., 0., 1.],\n",
      "        [1., 1., 0.],\n",
      "        [0., 1., 0.],\n",
      "        [1., 1., 0.]])\n",
      "w_query:\n",
      "tensor([[1., 0., 1.],\n",
      "        [1., 0., 0.],\n",
      "        [0., 0., 1.],\n",
      "        [0., 1., 1.]])\n",
      "w_value:\n",
      "tensor([[0., 2., 0.],\n",
      "        [0., 3., 0.],\n",
      "        [1., 0., 3.],\n",
      "        [1., 1., 0.]])\n"
     ]
    }
   ],
   "source": [
    "## Step 2: initialise weights\n",
    "w_key = [[0, 0, 1],[1, 1, 0],[0, 1, 0],[1, 1, 0]]\n",
    "w_query = [[1, 0, 1],[1, 0, 0],[0, 0, 1],[0, 1, 1]]\n",
    "w_value = [[0, 2, 0],[0, 3, 0],[1, 0, 3],[1, 1, 0]]\n",
    "\n",
    "w_key = torch.tensor(w_key, dtype=torch.float32)\n",
    "w_query = torch.tensor(w_query, dtype=torch.float32)\n",
    "w_value = torch.tensor(w_value, dtype=torch.float32)\n",
    "\n",
    "print(\"w_key:\")\n",
    "print(w_key)\n",
    "\n",
    "print(\"w_query:\")\n",
    "print(w_query)\n",
    "\n",
    "print(\"w_value:\")\n",
    "print(w_value)"
   ]
  },
  {
   "cell_type": "code",
   "execution_count": 4,
   "metadata": {},
   "outputs": [
    {
     "name": "stdout",
     "output_type": "stream",
     "text": [
      "keys:\n",
      "tensor([[0., 1., 1.],\n",
      "        [4., 4., 0.],\n",
      "        [2., 3., 1.]])\n",
      "querys:\n",
      "tensor([[1., 0., 2.],\n",
      "        [2., 2., 2.],\n",
      "        [2., 1., 3.]])\n",
      "values:\n",
      "tensor([[1., 2., 3.],\n",
      "        [2., 8., 0.],\n",
      "        [2., 6., 3.]])\n"
     ]
    }
   ],
   "source": [
    "## Step 3: Derive key, query and value\n",
    "\n",
    "keys = x @ w_key\n",
    "querys = x @ w_query\n",
    "values = x @ w_value\n",
    "\n",
    "print(\"keys:\")\n",
    "print(keys)\n",
    "\n",
    "print(\"querys:\")\n",
    "print(querys)\n",
    "\n",
    "print(\"values:\")\n",
    "print(values)"
   ]
  },
  {
   "cell_type": "code",
   "execution_count": 5,
   "metadata": {},
   "outputs": [
    {
     "name": "stdout",
     "output_type": "stream",
     "text": [
      "tensor([[ 2.,  4.,  4.],\n",
      "        [ 4., 16., 12.],\n",
      "        [ 4., 12., 10.]])\n"
     ]
    }
   ],
   "source": [
    "## Step 4: Calculate attention scores\n",
    "attn_scores = querys @ keys.T\n",
    "\n",
    "print(attn_scores)"
   ]
  },
  {
   "cell_type": "code",
   "execution_count": 6,
   "metadata": {},
   "outputs": [
    {
     "name": "stdout",
     "output_type": "stream",
     "text": [
      "tensor([[6.3379e-02, 4.6831e-01, 4.6831e-01],\n",
      "        [6.0337e-06, 9.8201e-01, 1.7986e-02],\n",
      "        [2.9539e-04, 8.8054e-01, 1.1917e-01]])\n"
     ]
    }
   ],
   "source": [
    "## Step 5: Calculate softmax\n",
    "attn_scores_softmax = softmax(attn_scores, dim=-1)\n",
    "print(attn_scores_softmax)"
   ]
  },
  {
   "cell_type": "code",
   "execution_count": 7,
   "metadata": {},
   "outputs": [
    {
     "name": "stdout",
     "output_type": "stream",
     "text": [
      "tensor([[[6.3379e-02, 1.2676e-01, 1.9014e-01],\n",
      "         [6.0337e-06, 1.2067e-05, 1.8101e-05],\n",
      "         [2.9539e-04, 5.9077e-04, 8.8616e-04]],\n",
      "\n",
      "        [[9.3662e-01, 3.7465e+00, 0.0000e+00],\n",
      "         [1.9640e+00, 7.8561e+00, 0.0000e+00],\n",
      "         [1.7611e+00, 7.0443e+00, 0.0000e+00]],\n",
      "\n",
      "        [[9.3662e-01, 2.8099e+00, 1.4049e+00],\n",
      "         [3.5972e-02, 1.0792e-01, 5.3958e-02],\n",
      "         [2.3834e-01, 7.1501e-01, 3.5750e-01]]])\n"
     ]
    }
   ],
   "source": [
    "## Step 6: Multiply scores with values\n",
    "weighted_values = values[:,None] * attn_scores_softmax.T[:,:,None]\n",
    "print(weighted_values)"
   ]
  },
  {
   "cell_type": "code",
   "execution_count": 8,
   "metadata": {},
   "outputs": [
    {
     "name": "stdout",
     "output_type": "stream",
     "text": [
      "tensor([[1.9366, 6.6831, 1.5951],\n",
      "        [2.0000, 7.9640, 0.0540],\n",
      "        [1.9997, 7.7599, 0.3584]])\n"
     ]
    }
   ],
   "source": [
    "## Step 7: Sum weighted values\n",
    "outputs = weighted_values.sum(dim=0)\n",
    "print(outputs)\n",
    "\n",
    "#tensor([[1.9366, 6.6831, 1.5951],  ## output 1\n",
    "#        [2.0000, 7.9640, 0.0540],  ## output 2\n",
    "#        [1.9997, 7.7599, 0.3584]]) ## output 3"
   ]
  },
  {
   "cell_type": "code",
   "execution_count": null,
   "metadata": {},
   "outputs": [],
   "source": []
  }
 ],
 "metadata": {
  "kernelspec": {
   "display_name": "Python 3 (ipykernel)",
   "language": "python",
   "name": "python3"
  },
  "language_info": {
   "codemirror_mode": {
    "name": "ipython",
    "version": 3
   },
   "file_extension": ".py",
   "mimetype": "text/x-python",
   "name": "python",
   "nbconvert_exporter": "python",
   "pygments_lexer": "ipython3",
   "version": "3.9.7"
  }
 },
 "nbformat": 4,
 "nbformat_minor": 4
}
